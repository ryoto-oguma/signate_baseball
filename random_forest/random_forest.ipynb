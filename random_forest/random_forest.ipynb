{
 "cells": [
  {
   "cell_type": "markdown",
   "metadata": {},
   "source": [
    "## データの読み込み"
   ]
  },
  {
   "cell_type": "code",
   "execution_count": 2,
   "metadata": {},
   "outputs": [],
   "source": [
    "import pandas as pd\n",
    "import numpy as np\n",
    "import xgboost as xgb\n",
    "import os,sys\n",
    "from sklearn.model_selection import train_test_split\n",
    "from sklearn.ensemble import RandomForestClassifier\n",
    "from sklearn.model_selection import GridSearchCV\n"
   ]
  },
  {
   "cell_type": "code",
   "execution_count": 18,
   "metadata": {},
   "outputs": [],
   "source": [
    "train = pd.read_csv('C:\\\\Users\\\\oguma\\\\Desktop\\\\山下研究室\\\\signate\\\\広島カープ\\\\球種部門\\\\特徴量エンジニアリング\\\\data\\\\merge2.csv')\n",
    "train = train.iloc[:,1:]\n",
    "\n",
    "label = pd.read_csv('C:\\\\Users\\\\oguma\\\\Desktop\\\\山下研究室\\\\signate\\\\広島カープ\\\\球種部門\\\\特徴量エンジニアリング\\\\data\\\\label.csv')\n",
    "label = label.iloc[:,1:]"
   ]
  },
  {
   "cell_type": "markdown",
   "metadata": {},
   "source": [
    "## 新しいラベル生成"
   ]
  },
  {
   "cell_type": "code",
   "execution_count": 19,
   "metadata": {},
   "outputs": [],
   "source": [
    "label_2 = []\n",
    "l = label['球種'].tolist()\n",
    "for i in range(len(l)):\n",
    "    if l[i] != 0:\n",
    "        label_2.append(1)\n",
    "    else:\n",
    "        label_2.append(0)\n",
    "\n",
    "label_2 = pd.DataFrame(label_2)\n",
    "label_2.columns = ['球種']"
   ]
  },
  {
   "cell_type": "markdown",
   "metadata": {},
   "source": [
    "## データ分割"
   ]
  },
  {
   "cell_type": "code",
   "execution_count": 20,
   "metadata": {},
   "outputs": [],
   "source": [
    "x_train,x_test,y_train,y_test = train_test_split(train,label_2,test_size = 0.2,random_state = 13)"
   ]
  },
  {
   "cell_type": "markdown",
   "metadata": {},
   "source": [
    "## モデル(defolt)"
   ]
  },
  {
   "cell_type": "code",
   "execution_count": 21,
   "metadata": {},
   "outputs": [],
   "source": [
    "from sklearn.metrics import classification_report\n",
    "from sklearn.metrics import log_loss\n",
    "\n",
    "def model_check(model):\n",
    "    model.fit(x_train,y_train)\n",
    "    pre = model.predict(x_test)\n",
    "    pre_p = model.predict_proba(x_test)\n",
    "    pre_p2 = model.predict_proba(x_train)\n",
    "    y_train_pred = classification_report(y_train,model.predict(x_train))\n",
    "    y_test_pred = classification_report(y_test,pre)\n",
    "    \n",
    "    print('train_log_loss:',log_loss(y_train,pre_p2))\n",
    "    print('test_log_loss:',log_loss(y_test,pre_p))\n",
    "    print(\"\"\"[{model_name} \\n Train Accuracy: \\n{train}] \\n Test Accuracy: \\n{test}\"\"\".format(model_name = model.__class__.__name__,train=y_train_pred,test=y_test_pred))\n",
    "\n",
    "    return model,pre_p2,pre_p"
   ]
  },
  {
   "cell_type": "code",
   "execution_count": 29,
   "metadata": {
    "tags": []
   },
   "outputs": [
    {
     "output_type": "stream",
     "name": "stdout",
     "text": "train_log_loss: 0.22406313216422652\ntest_log_loss: 0.7115776333963078\n[RandomForestClassifier \n Train Accuracy: \n              precision    recall  f1-score   support\n\n           0       1.00      1.00      1.00     96292\n           1       1.00      1.00      1.00    109401\n\n   micro avg       1.00      1.00      1.00    205693\n   macro avg       1.00      1.00      1.00    205693\nweighted avg       1.00      1.00      1.00    205693\n] \n Test Accuracy: \n              precision    recall  f1-score   support\n\n           0       0.53      0.48      0.50     24104\n           1       0.57      0.62      0.60     27320\n\n   micro avg       0.55      0.55      0.55     51424\n   macro avg       0.55      0.55      0.55     51424\nweighted avg       0.55      0.55      0.55     51424\n\n"
    }
   ],
   "source": [
    "params = {'max_depth':15,'n_estimators':100}\n",
    "model,pre_p2,pre_p = model_check(RandomForestClassifier(n_estimators=100,max_depth=80))"
   ]
  },
  {
   "cell_type": "code",
   "execution_count": 16,
   "metadata": {
    "tags": []
   },
   "outputs": [
    {
     "output_type": "stream",
     "name": "stdout",
     "text": "feature_importance\n得点差                 :0.057140\n1回                  :0.005216\n2回                  :0.005930\n3回                  :0.006781\n4回                  :0.007061\n5回                  :0.007098\n6回                  :0.007383\n7回                  :0.007128\n8回                  :0.006624\n9回                  :0.005694\n10回                 :0.002408\n11回                 :0.001362\n表                   :0.013609\n試合内投球数              :0.120850\n打席内投球数              :0.054962\n投手イニング内投球数          :0.089743\nNo out              :0.011234\n1out                :0.013106\nNo ball             :0.013573\n1ball               :0.015650\n2ball               :0.013149\nNo strike           :0.014323\n1strike             :0.016309\n一塁走者有無              :0.012865\n二塁走者有無              :0.011764\n三塁走者有無              :0.009581\n右投げ                 :0.009656\n右打ち                 :0.011368\n投手身長                :0.047148\n投手体重                :0.050424\n投手年俸                :0.056734\n打者身長                :0.056367\n打者体重                :0.064559\n打者年俸                :0.070692\n捕手身長                :0.029813\n捕手体重                :0.034859\n捕手年俸                :0.037839\n"
    }
   ],
   "source": [
    "fti = model.feature_importances_\n",
    "dic = {}\n",
    "print('feature_importance')\n",
    "for i ,feat in enumerate(train.columns):\n",
    "    print('{0:20s}:{1:>.6f}'.format(feat,fti[i]))\n",
    "    dic[feat]=fti[i]"
   ]
  },
  {
   "cell_type": "code",
   "execution_count": 17,
   "metadata": {
    "tags": []
   },
   "outputs": [
    {
     "output_type": "stream",
     "name": "stdout",
     "text": "[('試合内投球数', 0.1208498749562308), ('投手イニング内投球数', 0.08974289036202551), ('打者年俸', 0.07069212298958401), ('打者体重', 0.06455889295561415), ('得点差', 0.05714048122635276), ('投手年俸', 0.05673370574027106), ('打者身長', 0.056367159576702026), ('打席内投球数', 0.05496178081954278), ('投手体重', 0.05042370225831311), ('投手身長', 0.047148105576772785), ('捕手年俸', 0.037838617524449766), ('捕手体重', 0.03485854219345206), ('捕手身長', 0.02981342728785121), ('1strike', 0.016308647305428206), ('1ball', 0.0156496756490629), ('No strike', 0.014322577801162507), ('表', 0.013608719642037255), ('No ball', 0.013573224930120443), ('2ball', 0.013149277776964287), ('1out', 0.013106029348518655), ('一塁走者有無', 0.012865143954343405), ('二塁走者有無', 0.011763928925963793), ('右打ち', 0.011367811678697399), ('No out', 0.01123371188264912), ('右投げ', 0.009655935819766107), ('三塁走者有無', 0.009581318561784784), ('6回', 0.007382799530026424), ('7回', 0.00712777658611357), ('5回', 0.007098183142303077), ('4回', 0.007061431219713216), ('3回', 0.006780684052398205), ('8回', 0.006624237003298049), ('2回', 0.005929674643520393), ('9回', 0.005693977285808383), ('1回', 0.005215928790020207), ('10回', 0.0024075109364503867), ('11回', 0.0013624900666871873)]\n"
    },
    {
     "output_type": "execute_result",
     "data": {
      "text/plain": "             0         1\n0       試合内投球数  0.120850\n1   投手イニング内投球数  0.089743\n2         打者年俸  0.070692\n3         打者体重  0.064559\n4          得点差  0.057140\n5         投手年俸  0.056734\n6         打者身長  0.056367\n7       打席内投球数  0.054962\n8         投手体重  0.050424\n9         投手身長  0.047148\n10        捕手年俸  0.037839\n11        捕手体重  0.034859\n12        捕手身長  0.029813\n13     1strike  0.016309\n14       1ball  0.015650\n15   No strike  0.014323\n16           表  0.013609\n17     No ball  0.013573\n18       2ball  0.013149\n19        1out  0.013106\n20      一塁走者有無  0.012865\n21      二塁走者有無  0.011764\n22         右打ち  0.011368\n23      No out  0.011234\n24         右投げ  0.009656\n25      三塁走者有無  0.009581\n26          6回  0.007383\n27          7回  0.007128\n28          5回  0.007098\n29          4回  0.007061\n30          3回  0.006781\n31          8回  0.006624\n32          2回  0.005930\n33          9回  0.005694\n34          1回  0.005216\n35         10回  0.002408\n36         11回  0.001362",
      "text/html": "<div>\n<style scoped>\n    .dataframe tbody tr th:only-of-type {\n        vertical-align: middle;\n    }\n\n    .dataframe tbody tr th {\n        vertical-align: top;\n    }\n\n    .dataframe thead th {\n        text-align: right;\n    }\n</style>\n<table border=\"1\" class=\"dataframe\">\n  <thead>\n    <tr style=\"text-align: right;\">\n      <th></th>\n      <th>0</th>\n      <th>1</th>\n    </tr>\n  </thead>\n  <tbody>\n    <tr>\n      <th>0</th>\n      <td>試合内投球数</td>\n      <td>0.120850</td>\n    </tr>\n    <tr>\n      <th>1</th>\n      <td>投手イニング内投球数</td>\n      <td>0.089743</td>\n    </tr>\n    <tr>\n      <th>2</th>\n      <td>打者年俸</td>\n      <td>0.070692</td>\n    </tr>\n    <tr>\n      <th>3</th>\n      <td>打者体重</td>\n      <td>0.064559</td>\n    </tr>\n    <tr>\n      <th>4</th>\n      <td>得点差</td>\n      <td>0.057140</td>\n    </tr>\n    <tr>\n      <th>5</th>\n      <td>投手年俸</td>\n      <td>0.056734</td>\n    </tr>\n    <tr>\n      <th>6</th>\n      <td>打者身長</td>\n      <td>0.056367</td>\n    </tr>\n    <tr>\n      <th>7</th>\n      <td>打席内投球数</td>\n      <td>0.054962</td>\n    </tr>\n    <tr>\n      <th>8</th>\n      <td>投手体重</td>\n      <td>0.050424</td>\n    </tr>\n    <tr>\n      <th>9</th>\n      <td>投手身長</td>\n      <td>0.047148</td>\n    </tr>\n    <tr>\n      <th>10</th>\n      <td>捕手年俸</td>\n      <td>0.037839</td>\n    </tr>\n    <tr>\n      <th>11</th>\n      <td>捕手体重</td>\n      <td>0.034859</td>\n    </tr>\n    <tr>\n      <th>12</th>\n      <td>捕手身長</td>\n      <td>0.029813</td>\n    </tr>\n    <tr>\n      <th>13</th>\n      <td>1strike</td>\n      <td>0.016309</td>\n    </tr>\n    <tr>\n      <th>14</th>\n      <td>1ball</td>\n      <td>0.015650</td>\n    </tr>\n    <tr>\n      <th>15</th>\n      <td>No strike</td>\n      <td>0.014323</td>\n    </tr>\n    <tr>\n      <th>16</th>\n      <td>表</td>\n      <td>0.013609</td>\n    </tr>\n    <tr>\n      <th>17</th>\n      <td>No ball</td>\n      <td>0.013573</td>\n    </tr>\n    <tr>\n      <th>18</th>\n      <td>2ball</td>\n      <td>0.013149</td>\n    </tr>\n    <tr>\n      <th>19</th>\n      <td>1out</td>\n      <td>0.013106</td>\n    </tr>\n    <tr>\n      <th>20</th>\n      <td>一塁走者有無</td>\n      <td>0.012865</td>\n    </tr>\n    <tr>\n      <th>21</th>\n      <td>二塁走者有無</td>\n      <td>0.011764</td>\n    </tr>\n    <tr>\n      <th>22</th>\n      <td>右打ち</td>\n      <td>0.011368</td>\n    </tr>\n    <tr>\n      <th>23</th>\n      <td>No out</td>\n      <td>0.011234</td>\n    </tr>\n    <tr>\n      <th>24</th>\n      <td>右投げ</td>\n      <td>0.009656</td>\n    </tr>\n    <tr>\n      <th>25</th>\n      <td>三塁走者有無</td>\n      <td>0.009581</td>\n    </tr>\n    <tr>\n      <th>26</th>\n      <td>6回</td>\n      <td>0.007383</td>\n    </tr>\n    <tr>\n      <th>27</th>\n      <td>7回</td>\n      <td>0.007128</td>\n    </tr>\n    <tr>\n      <th>28</th>\n      <td>5回</td>\n      <td>0.007098</td>\n    </tr>\n    <tr>\n      <th>29</th>\n      <td>4回</td>\n      <td>0.007061</td>\n    </tr>\n    <tr>\n      <th>30</th>\n      <td>3回</td>\n      <td>0.006781</td>\n    </tr>\n    <tr>\n      <th>31</th>\n      <td>8回</td>\n      <td>0.006624</td>\n    </tr>\n    <tr>\n      <th>32</th>\n      <td>2回</td>\n      <td>0.005930</td>\n    </tr>\n    <tr>\n      <th>33</th>\n      <td>9回</td>\n      <td>0.005694</td>\n    </tr>\n    <tr>\n      <th>34</th>\n      <td>1回</td>\n      <td>0.005216</td>\n    </tr>\n    <tr>\n      <th>35</th>\n      <td>10回</td>\n      <td>0.002408</td>\n    </tr>\n    <tr>\n      <th>36</th>\n      <td>11回</td>\n      <td>0.001362</td>\n    </tr>\n  </tbody>\n</table>\n</div>"
     },
     "metadata": {},
     "execution_count": 17
    }
   ],
   "source": [
    "dic2 = sorted(dic.items(),key = lambda x:x[1],reverse = True)\n",
    "print(dic2)\n",
    "pd.DataFrame(dic2)"
   ]
  },
  {
   "cell_type": "code",
   "execution_count": 15,
   "metadata": {},
   "outputs": [
    {
     "output_type": "execute_result",
     "data": {
      "text/plain": "               0         1         2         3         4         5         6  \\\n0       0.261846  0.114684  0.122919  0.128709  0.176932  0.081245  0.040860   \n1       0.135865  0.174511  0.186720  0.147608  0.125918  0.107487  0.027351   \n2       0.217046  0.161517  0.112899  0.054771  0.074160  0.292151  0.024072   \n3       0.126390  0.222457  0.125586  0.115703  0.107794  0.094474  0.103352   \n4       0.320345  0.056104  0.481969  0.039249  0.049068  0.026282  0.000825   \n5       0.119316  0.127972  0.114729  0.103355  0.129238  0.099327  0.107045   \n6       0.170139  0.103236  0.176755  0.092917  0.167480  0.089385  0.105863   \n7       0.323475  0.104675  0.100293  0.047222  0.152786  0.162558  0.057231   \n8       0.103407  0.082170  0.105510  0.278787  0.107281  0.212030  0.049961   \n9       0.205286  0.118235  0.097590  0.111934  0.125299  0.155685  0.054752   \n10      0.293387  0.094622  0.134993  0.110761  0.165390  0.084161  0.008770   \n11      0.295892  0.106648  0.082255  0.066242  0.277966  0.057805  0.034854   \n12      0.171785  0.111583  0.247509  0.106975  0.094295  0.093021  0.033087   \n13      0.343463  0.092047  0.245927  0.059938  0.054293  0.103078  0.012889   \n14      0.175867  0.160137  0.139909  0.113184  0.221057  0.094206  0.033633   \n15      0.248490  0.095556  0.288244  0.087276  0.109705  0.064520  0.031249   \n16      0.119958  0.029074  0.674053  0.035698  0.069096  0.039988  0.005101   \n17      0.239625  0.284731  0.111111  0.129903  0.071417  0.065251  0.010701   \n18      0.257754  0.096423  0.147645  0.065361  0.097242  0.213138  0.051891   \n19      0.328510  0.108865  0.082401  0.062753  0.077944  0.131731  0.019138   \n20      0.144279  0.194814  0.137057  0.111747  0.126787  0.123295  0.063311   \n21      0.119910  0.142973  0.156087  0.106026  0.100470  0.218830  0.043575   \n22      0.234933  0.128292  0.151386  0.083800  0.127080  0.100505  0.059572   \n23      0.296154  0.148593  0.137855  0.109031  0.079855  0.100804  0.050492   \n24      0.356881  0.170485  0.098529  0.075458  0.132857  0.074275  0.023684   \n25      0.147356  0.092119  0.206858  0.102718  0.275402  0.056683  0.030518   \n26      0.119581  0.248529  0.122684  0.091049  0.119972  0.163762  0.047081   \n27      0.187173  0.112677  0.142578  0.136346  0.115816  0.163032  0.041286   \n28      0.155877  0.104583  0.171093  0.254784  0.125754  0.072879  0.038581   \n29      0.156276  0.092498  0.117662  0.103072  0.085654  0.105170  0.227822   \n...          ...       ...       ...       ...       ...       ...       ...   \n205663  0.454611  0.191650  0.076617  0.042470  0.050324  0.166210  0.001189   \n205664  0.172382  0.102839  0.140893  0.125113  0.185445  0.124547  0.051095   \n205665  0.189969  0.122269  0.232644  0.090360  0.130819  0.113977  0.035420   \n205666  0.520908  0.083050  0.076053  0.068615  0.077711  0.098631  0.020436   \n205667  0.205311  0.170163  0.127875  0.106297  0.109779  0.106084  0.060603   \n205668  0.365226  0.088208  0.149396  0.100890  0.119651  0.076768  0.030715   \n205669  0.172384  0.102119  0.115687  0.142167  0.131079  0.084559  0.098834   \n205670  0.173388  0.112649  0.109916  0.195170  0.112218  0.110197  0.076978   \n205671  0.154160  0.046397  0.118686  0.431808  0.117778  0.047609  0.033830   \n205672  0.209221  0.144349  0.127384  0.105950  0.122319  0.138404  0.051306   \n205673  0.246874  0.093196  0.139006  0.123524  0.080939  0.145191  0.075498   \n205674  0.154349  0.130741  0.137643  0.102413  0.118488  0.142917  0.071366   \n205675  0.148311  0.083837  0.152641  0.075690  0.370441  0.069436  0.020907   \n205676  0.164338  0.100561  0.122117  0.183542  0.174282  0.089221  0.080844   \n205677  0.341031  0.111751  0.077448  0.102208  0.087171  0.075913  0.080228   \n205678  0.122963  0.080823  0.115718  0.359975  0.089786  0.076139  0.080433   \n205679  0.148184  0.151699  0.143989  0.070269  0.243575  0.089970  0.040147   \n205680  0.143465  0.100395  0.102924  0.095208  0.097162  0.096158  0.276300   \n205681  0.227894  0.141487  0.104136  0.111602  0.126938  0.093691  0.068664   \n205682  0.161110  0.130315  0.116889  0.110258  0.112190  0.158077  0.087789   \n205683  0.105271  0.273839  0.195074  0.081897  0.190886  0.070523  0.026361   \n205684  0.147405  0.108844  0.144412  0.117336  0.129536  0.098744  0.106129   \n205685  0.322036  0.105074  0.100505  0.075394  0.119114  0.114212  0.043341   \n205686  0.237481  0.130528  0.119251  0.136846  0.145135  0.106214  0.055368   \n205687  0.254137  0.151806  0.205262  0.082108  0.106239  0.118766  0.006881   \n205688  0.225311  0.052265  0.539680  0.020858  0.095509  0.031673  0.005805   \n205689  0.151283  0.108917  0.309263  0.093249  0.148285  0.072420  0.050697   \n205690  0.143412  0.202465  0.137604  0.110566  0.127333  0.132541  0.042167   \n205691  0.381540  0.164700  0.139535  0.071903  0.083491  0.084036  0.020164   \n205692  0.445194  0.076145  0.152678  0.054379  0.119052  0.088138  0.016450   \n\n               7  \n0       0.072805  \n1       0.094540  \n2       0.063384  \n3       0.104244  \n4       0.026158  \n5       0.199019  \n6       0.094225  \n7       0.051760  \n8       0.060854  \n9       0.131219  \n10      0.107916  \n11      0.078337  \n12      0.141746  \n13      0.088366  \n14      0.062006  \n15      0.074960  \n16      0.027031  \n17      0.087261  \n18      0.070546  \n19      0.188657  \n20      0.098712  \n21      0.112129  \n22      0.114431  \n23      0.077217  \n24      0.067831  \n25      0.088345  \n26      0.087342  \n27      0.101092  \n28      0.076450  \n29      0.111846  \n...          ...  \n205663  0.016928  \n205664  0.097687  \n205665  0.084542  \n205666  0.054596  \n205667  0.113888  \n205668  0.069146  \n205669  0.153171  \n205670  0.109485  \n205671  0.049732  \n205672  0.101067  \n205673  0.095773  \n205674  0.142083  \n205675  0.078738  \n205676  0.085095  \n205677  0.124250  \n205678  0.074163  \n205679  0.112168  \n205680  0.088388  \n205681  0.125589  \n205682  0.123374  \n205683  0.056149  \n205684  0.147595  \n205685  0.120323  \n205686  0.069176  \n205687  0.074800  \n205688  0.028900  \n205689  0.065886  \n205690  0.103913  \n205691  0.054630  \n205692  0.047963  \n\n[205693 rows x 8 columns]",
      "text/html": "<div>\n<style scoped>\n    .dataframe tbody tr th:only-of-type {\n        vertical-align: middle;\n    }\n\n    .dataframe tbody tr th {\n        vertical-align: top;\n    }\n\n    .dataframe thead th {\n        text-align: right;\n    }\n</style>\n<table border=\"1\" class=\"dataframe\">\n  <thead>\n    <tr style=\"text-align: right;\">\n      <th></th>\n      <th>0</th>\n      <th>1</th>\n      <th>2</th>\n      <th>3</th>\n      <th>4</th>\n      <th>5</th>\n      <th>6</th>\n      <th>7</th>\n    </tr>\n  </thead>\n  <tbody>\n    <tr>\n      <th>0</th>\n      <td>0.261846</td>\n      <td>0.114684</td>\n      <td>0.122919</td>\n      <td>0.128709</td>\n      <td>0.176932</td>\n      <td>0.081245</td>\n      <td>0.040860</td>\n      <td>0.072805</td>\n    </tr>\n    <tr>\n      <th>1</th>\n      <td>0.135865</td>\n      <td>0.174511</td>\n      <td>0.186720</td>\n      <td>0.147608</td>\n      <td>0.125918</td>\n      <td>0.107487</td>\n      <td>0.027351</td>\n      <td>0.094540</td>\n    </tr>\n    <tr>\n      <th>2</th>\n      <td>0.217046</td>\n      <td>0.161517</td>\n      <td>0.112899</td>\n      <td>0.054771</td>\n      <td>0.074160</td>\n      <td>0.292151</td>\n      <td>0.024072</td>\n      <td>0.063384</td>\n    </tr>\n    <tr>\n      <th>3</th>\n      <td>0.126390</td>\n      <td>0.222457</td>\n      <td>0.125586</td>\n      <td>0.115703</td>\n      <td>0.107794</td>\n      <td>0.094474</td>\n      <td>0.103352</td>\n      <td>0.104244</td>\n    </tr>\n    <tr>\n      <th>4</th>\n      <td>0.320345</td>\n      <td>0.056104</td>\n      <td>0.481969</td>\n      <td>0.039249</td>\n      <td>0.049068</td>\n      <td>0.026282</td>\n      <td>0.000825</td>\n      <td>0.026158</td>\n    </tr>\n    <tr>\n      <th>5</th>\n      <td>0.119316</td>\n      <td>0.127972</td>\n      <td>0.114729</td>\n      <td>0.103355</td>\n      <td>0.129238</td>\n      <td>0.099327</td>\n      <td>0.107045</td>\n      <td>0.199019</td>\n    </tr>\n    <tr>\n      <th>6</th>\n      <td>0.170139</td>\n      <td>0.103236</td>\n      <td>0.176755</td>\n      <td>0.092917</td>\n      <td>0.167480</td>\n      <td>0.089385</td>\n      <td>0.105863</td>\n      <td>0.094225</td>\n    </tr>\n    <tr>\n      <th>7</th>\n      <td>0.323475</td>\n      <td>0.104675</td>\n      <td>0.100293</td>\n      <td>0.047222</td>\n      <td>0.152786</td>\n      <td>0.162558</td>\n      <td>0.057231</td>\n      <td>0.051760</td>\n    </tr>\n    <tr>\n      <th>8</th>\n      <td>0.103407</td>\n      <td>0.082170</td>\n      <td>0.105510</td>\n      <td>0.278787</td>\n      <td>0.107281</td>\n      <td>0.212030</td>\n      <td>0.049961</td>\n      <td>0.060854</td>\n    </tr>\n    <tr>\n      <th>9</th>\n      <td>0.205286</td>\n      <td>0.118235</td>\n      <td>0.097590</td>\n      <td>0.111934</td>\n      <td>0.125299</td>\n      <td>0.155685</td>\n      <td>0.054752</td>\n      <td>0.131219</td>\n    </tr>\n    <tr>\n      <th>10</th>\n      <td>0.293387</td>\n      <td>0.094622</td>\n      <td>0.134993</td>\n      <td>0.110761</td>\n      <td>0.165390</td>\n      <td>0.084161</td>\n      <td>0.008770</td>\n      <td>0.107916</td>\n    </tr>\n    <tr>\n      <th>11</th>\n      <td>0.295892</td>\n      <td>0.106648</td>\n      <td>0.082255</td>\n      <td>0.066242</td>\n      <td>0.277966</td>\n      <td>0.057805</td>\n      <td>0.034854</td>\n      <td>0.078337</td>\n    </tr>\n    <tr>\n      <th>12</th>\n      <td>0.171785</td>\n      <td>0.111583</td>\n      <td>0.247509</td>\n      <td>0.106975</td>\n      <td>0.094295</td>\n      <td>0.093021</td>\n      <td>0.033087</td>\n      <td>0.141746</td>\n    </tr>\n    <tr>\n      <th>13</th>\n      <td>0.343463</td>\n      <td>0.092047</td>\n      <td>0.245927</td>\n      <td>0.059938</td>\n      <td>0.054293</td>\n      <td>0.103078</td>\n      <td>0.012889</td>\n      <td>0.088366</td>\n    </tr>\n    <tr>\n      <th>14</th>\n      <td>0.175867</td>\n      <td>0.160137</td>\n      <td>0.139909</td>\n      <td>0.113184</td>\n      <td>0.221057</td>\n      <td>0.094206</td>\n      <td>0.033633</td>\n      <td>0.062006</td>\n    </tr>\n    <tr>\n      <th>15</th>\n      <td>0.248490</td>\n      <td>0.095556</td>\n      <td>0.288244</td>\n      <td>0.087276</td>\n      <td>0.109705</td>\n      <td>0.064520</td>\n      <td>0.031249</td>\n      <td>0.074960</td>\n    </tr>\n    <tr>\n      <th>16</th>\n      <td>0.119958</td>\n      <td>0.029074</td>\n      <td>0.674053</td>\n      <td>0.035698</td>\n      <td>0.069096</td>\n      <td>0.039988</td>\n      <td>0.005101</td>\n      <td>0.027031</td>\n    </tr>\n    <tr>\n      <th>17</th>\n      <td>0.239625</td>\n      <td>0.284731</td>\n      <td>0.111111</td>\n      <td>0.129903</td>\n      <td>0.071417</td>\n      <td>0.065251</td>\n      <td>0.010701</td>\n      <td>0.087261</td>\n    </tr>\n    <tr>\n      <th>18</th>\n      <td>0.257754</td>\n      <td>0.096423</td>\n      <td>0.147645</td>\n      <td>0.065361</td>\n      <td>0.097242</td>\n      <td>0.213138</td>\n      <td>0.051891</td>\n      <td>0.070546</td>\n    </tr>\n    <tr>\n      <th>19</th>\n      <td>0.328510</td>\n      <td>0.108865</td>\n      <td>0.082401</td>\n      <td>0.062753</td>\n      <td>0.077944</td>\n      <td>0.131731</td>\n      <td>0.019138</td>\n      <td>0.188657</td>\n    </tr>\n    <tr>\n      <th>20</th>\n      <td>0.144279</td>\n      <td>0.194814</td>\n      <td>0.137057</td>\n      <td>0.111747</td>\n      <td>0.126787</td>\n      <td>0.123295</td>\n      <td>0.063311</td>\n      <td>0.098712</td>\n    </tr>\n    <tr>\n      <th>21</th>\n      <td>0.119910</td>\n      <td>0.142973</td>\n      <td>0.156087</td>\n      <td>0.106026</td>\n      <td>0.100470</td>\n      <td>0.218830</td>\n      <td>0.043575</td>\n      <td>0.112129</td>\n    </tr>\n    <tr>\n      <th>22</th>\n      <td>0.234933</td>\n      <td>0.128292</td>\n      <td>0.151386</td>\n      <td>0.083800</td>\n      <td>0.127080</td>\n      <td>0.100505</td>\n      <td>0.059572</td>\n      <td>0.114431</td>\n    </tr>\n    <tr>\n      <th>23</th>\n      <td>0.296154</td>\n      <td>0.148593</td>\n      <td>0.137855</td>\n      <td>0.109031</td>\n      <td>0.079855</td>\n      <td>0.100804</td>\n      <td>0.050492</td>\n      <td>0.077217</td>\n    </tr>\n    <tr>\n      <th>24</th>\n      <td>0.356881</td>\n      <td>0.170485</td>\n      <td>0.098529</td>\n      <td>0.075458</td>\n      <td>0.132857</td>\n      <td>0.074275</td>\n      <td>0.023684</td>\n      <td>0.067831</td>\n    </tr>\n    <tr>\n      <th>25</th>\n      <td>0.147356</td>\n      <td>0.092119</td>\n      <td>0.206858</td>\n      <td>0.102718</td>\n      <td>0.275402</td>\n      <td>0.056683</td>\n      <td>0.030518</td>\n      <td>0.088345</td>\n    </tr>\n    <tr>\n      <th>26</th>\n      <td>0.119581</td>\n      <td>0.248529</td>\n      <td>0.122684</td>\n      <td>0.091049</td>\n      <td>0.119972</td>\n      <td>0.163762</td>\n      <td>0.047081</td>\n      <td>0.087342</td>\n    </tr>\n    <tr>\n      <th>27</th>\n      <td>0.187173</td>\n      <td>0.112677</td>\n      <td>0.142578</td>\n      <td>0.136346</td>\n      <td>0.115816</td>\n      <td>0.163032</td>\n      <td>0.041286</td>\n      <td>0.101092</td>\n    </tr>\n    <tr>\n      <th>28</th>\n      <td>0.155877</td>\n      <td>0.104583</td>\n      <td>0.171093</td>\n      <td>0.254784</td>\n      <td>0.125754</td>\n      <td>0.072879</td>\n      <td>0.038581</td>\n      <td>0.076450</td>\n    </tr>\n    <tr>\n      <th>29</th>\n      <td>0.156276</td>\n      <td>0.092498</td>\n      <td>0.117662</td>\n      <td>0.103072</td>\n      <td>0.085654</td>\n      <td>0.105170</td>\n      <td>0.227822</td>\n      <td>0.111846</td>\n    </tr>\n    <tr>\n      <th>...</th>\n      <td>...</td>\n      <td>...</td>\n      <td>...</td>\n      <td>...</td>\n      <td>...</td>\n      <td>...</td>\n      <td>...</td>\n      <td>...</td>\n    </tr>\n    <tr>\n      <th>205663</th>\n      <td>0.454611</td>\n      <td>0.191650</td>\n      <td>0.076617</td>\n      <td>0.042470</td>\n      <td>0.050324</td>\n      <td>0.166210</td>\n      <td>0.001189</td>\n      <td>0.016928</td>\n    </tr>\n    <tr>\n      <th>205664</th>\n      <td>0.172382</td>\n      <td>0.102839</td>\n      <td>0.140893</td>\n      <td>0.125113</td>\n      <td>0.185445</td>\n      <td>0.124547</td>\n      <td>0.051095</td>\n      <td>0.097687</td>\n    </tr>\n    <tr>\n      <th>205665</th>\n      <td>0.189969</td>\n      <td>0.122269</td>\n      <td>0.232644</td>\n      <td>0.090360</td>\n      <td>0.130819</td>\n      <td>0.113977</td>\n      <td>0.035420</td>\n      <td>0.084542</td>\n    </tr>\n    <tr>\n      <th>205666</th>\n      <td>0.520908</td>\n      <td>0.083050</td>\n      <td>0.076053</td>\n      <td>0.068615</td>\n      <td>0.077711</td>\n      <td>0.098631</td>\n      <td>0.020436</td>\n      <td>0.054596</td>\n    </tr>\n    <tr>\n      <th>205667</th>\n      <td>0.205311</td>\n      <td>0.170163</td>\n      <td>0.127875</td>\n      <td>0.106297</td>\n      <td>0.109779</td>\n      <td>0.106084</td>\n      <td>0.060603</td>\n      <td>0.113888</td>\n    </tr>\n    <tr>\n      <th>205668</th>\n      <td>0.365226</td>\n      <td>0.088208</td>\n      <td>0.149396</td>\n      <td>0.100890</td>\n      <td>0.119651</td>\n      <td>0.076768</td>\n      <td>0.030715</td>\n      <td>0.069146</td>\n    </tr>\n    <tr>\n      <th>205669</th>\n      <td>0.172384</td>\n      <td>0.102119</td>\n      <td>0.115687</td>\n      <td>0.142167</td>\n      <td>0.131079</td>\n      <td>0.084559</td>\n      <td>0.098834</td>\n      <td>0.153171</td>\n    </tr>\n    <tr>\n      <th>205670</th>\n      <td>0.173388</td>\n      <td>0.112649</td>\n      <td>0.109916</td>\n      <td>0.195170</td>\n      <td>0.112218</td>\n      <td>0.110197</td>\n      <td>0.076978</td>\n      <td>0.109485</td>\n    </tr>\n    <tr>\n      <th>205671</th>\n      <td>0.154160</td>\n      <td>0.046397</td>\n      <td>0.118686</td>\n      <td>0.431808</td>\n      <td>0.117778</td>\n      <td>0.047609</td>\n      <td>0.033830</td>\n      <td>0.049732</td>\n    </tr>\n    <tr>\n      <th>205672</th>\n      <td>0.209221</td>\n      <td>0.144349</td>\n      <td>0.127384</td>\n      <td>0.105950</td>\n      <td>0.122319</td>\n      <td>0.138404</td>\n      <td>0.051306</td>\n      <td>0.101067</td>\n    </tr>\n    <tr>\n      <th>205673</th>\n      <td>0.246874</td>\n      <td>0.093196</td>\n      <td>0.139006</td>\n      <td>0.123524</td>\n      <td>0.080939</td>\n      <td>0.145191</td>\n      <td>0.075498</td>\n      <td>0.095773</td>\n    </tr>\n    <tr>\n      <th>205674</th>\n      <td>0.154349</td>\n      <td>0.130741</td>\n      <td>0.137643</td>\n      <td>0.102413</td>\n      <td>0.118488</td>\n      <td>0.142917</td>\n      <td>0.071366</td>\n      <td>0.142083</td>\n    </tr>\n    <tr>\n      <th>205675</th>\n      <td>0.148311</td>\n      <td>0.083837</td>\n      <td>0.152641</td>\n      <td>0.075690</td>\n      <td>0.370441</td>\n      <td>0.069436</td>\n      <td>0.020907</td>\n      <td>0.078738</td>\n    </tr>\n    <tr>\n      <th>205676</th>\n      <td>0.164338</td>\n      <td>0.100561</td>\n      <td>0.122117</td>\n      <td>0.183542</td>\n      <td>0.174282</td>\n      <td>0.089221</td>\n      <td>0.080844</td>\n      <td>0.085095</td>\n    </tr>\n    <tr>\n      <th>205677</th>\n      <td>0.341031</td>\n      <td>0.111751</td>\n      <td>0.077448</td>\n      <td>0.102208</td>\n      <td>0.087171</td>\n      <td>0.075913</td>\n      <td>0.080228</td>\n      <td>0.124250</td>\n    </tr>\n    <tr>\n      <th>205678</th>\n      <td>0.122963</td>\n      <td>0.080823</td>\n      <td>0.115718</td>\n      <td>0.359975</td>\n      <td>0.089786</td>\n      <td>0.076139</td>\n      <td>0.080433</td>\n      <td>0.074163</td>\n    </tr>\n    <tr>\n      <th>205679</th>\n      <td>0.148184</td>\n      <td>0.151699</td>\n      <td>0.143989</td>\n      <td>0.070269</td>\n      <td>0.243575</td>\n      <td>0.089970</td>\n      <td>0.040147</td>\n      <td>0.112168</td>\n    </tr>\n    <tr>\n      <th>205680</th>\n      <td>0.143465</td>\n      <td>0.100395</td>\n      <td>0.102924</td>\n      <td>0.095208</td>\n      <td>0.097162</td>\n      <td>0.096158</td>\n      <td>0.276300</td>\n      <td>0.088388</td>\n    </tr>\n    <tr>\n      <th>205681</th>\n      <td>0.227894</td>\n      <td>0.141487</td>\n      <td>0.104136</td>\n      <td>0.111602</td>\n      <td>0.126938</td>\n      <td>0.093691</td>\n      <td>0.068664</td>\n      <td>0.125589</td>\n    </tr>\n    <tr>\n      <th>205682</th>\n      <td>0.161110</td>\n      <td>0.130315</td>\n      <td>0.116889</td>\n      <td>0.110258</td>\n      <td>0.112190</td>\n      <td>0.158077</td>\n      <td>0.087789</td>\n      <td>0.123374</td>\n    </tr>\n    <tr>\n      <th>205683</th>\n      <td>0.105271</td>\n      <td>0.273839</td>\n      <td>0.195074</td>\n      <td>0.081897</td>\n      <td>0.190886</td>\n      <td>0.070523</td>\n      <td>0.026361</td>\n      <td>0.056149</td>\n    </tr>\n    <tr>\n      <th>205684</th>\n      <td>0.147405</td>\n      <td>0.108844</td>\n      <td>0.144412</td>\n      <td>0.117336</td>\n      <td>0.129536</td>\n      <td>0.098744</td>\n      <td>0.106129</td>\n      <td>0.147595</td>\n    </tr>\n    <tr>\n      <th>205685</th>\n      <td>0.322036</td>\n      <td>0.105074</td>\n      <td>0.100505</td>\n      <td>0.075394</td>\n      <td>0.119114</td>\n      <td>0.114212</td>\n      <td>0.043341</td>\n      <td>0.120323</td>\n    </tr>\n    <tr>\n      <th>205686</th>\n      <td>0.237481</td>\n      <td>0.130528</td>\n      <td>0.119251</td>\n      <td>0.136846</td>\n      <td>0.145135</td>\n      <td>0.106214</td>\n      <td>0.055368</td>\n      <td>0.069176</td>\n    </tr>\n    <tr>\n      <th>205687</th>\n      <td>0.254137</td>\n      <td>0.151806</td>\n      <td>0.205262</td>\n      <td>0.082108</td>\n      <td>0.106239</td>\n      <td>0.118766</td>\n      <td>0.006881</td>\n      <td>0.074800</td>\n    </tr>\n    <tr>\n      <th>205688</th>\n      <td>0.225311</td>\n      <td>0.052265</td>\n      <td>0.539680</td>\n      <td>0.020858</td>\n      <td>0.095509</td>\n      <td>0.031673</td>\n      <td>0.005805</td>\n      <td>0.028900</td>\n    </tr>\n    <tr>\n      <th>205689</th>\n      <td>0.151283</td>\n      <td>0.108917</td>\n      <td>0.309263</td>\n      <td>0.093249</td>\n      <td>0.148285</td>\n      <td>0.072420</td>\n      <td>0.050697</td>\n      <td>0.065886</td>\n    </tr>\n    <tr>\n      <th>205690</th>\n      <td>0.143412</td>\n      <td>0.202465</td>\n      <td>0.137604</td>\n      <td>0.110566</td>\n      <td>0.127333</td>\n      <td>0.132541</td>\n      <td>0.042167</td>\n      <td>0.103913</td>\n    </tr>\n    <tr>\n      <th>205691</th>\n      <td>0.381540</td>\n      <td>0.164700</td>\n      <td>0.139535</td>\n      <td>0.071903</td>\n      <td>0.083491</td>\n      <td>0.084036</td>\n      <td>0.020164</td>\n      <td>0.054630</td>\n    </tr>\n    <tr>\n      <th>205692</th>\n      <td>0.445194</td>\n      <td>0.076145</td>\n      <td>0.152678</td>\n      <td>0.054379</td>\n      <td>0.119052</td>\n      <td>0.088138</td>\n      <td>0.016450</td>\n      <td>0.047963</td>\n    </tr>\n  </tbody>\n</table>\n<p>205693 rows × 8 columns</p>\n</div>"
     },
     "metadata": {},
     "execution_count": 15
    }
   ],
   "source": [
    "pd.DataFrame(pre_p2)"
   ]
  },
  {
   "cell_type": "markdown",
   "metadata": {},
   "source": [
    "## randomforest gridsearch"
   ]
  },
  {
   "cell_type": "code",
   "execution_count": 16,
   "metadata": {},
   "outputs": [],
   "source": [
    "param_grid = {'max_depth':[10],\n",
    "'n_estimators':[40,50,60,70,80]}"
   ]
  },
  {
   "cell_type": "code",
   "execution_count": 51,
   "metadata": {},
   "outputs": [],
   "source": [
    "forest_grid = GridSearchCV(estimator=RandomForestClassifier(random_state=13,verbose = 1),param_grid = param_grid,\n",
    "scoring='neg_log_loss',\n",
    "cv = 3)"
   ]
  },
  {
   "cell_type": "code",
   "execution_count": 52,
   "metadata": {
    "tags": []
   },
   "outputs": [
    {
     "output_type": "stream",
     "name": "stderr",
     "text": "[Parallel(n_jobs=1)]: Using backend SequentialBackend with 1 concurrent workers.\n[Parallel(n_jobs=1)]: Done  40 out of  40 | elapsed:    6.7s finished\n[Parallel(n_jobs=1)]: Using backend SequentialBackend with 1 concurrent workers.\n[Parallel(n_jobs=1)]: Done  40 out of  40 | elapsed:    0.5s finished\n[Parallel(n_jobs=1)]: Using backend SequentialBackend with 1 concurrent workers.\n[Parallel(n_jobs=1)]: Done  40 out of  40 | elapsed:    1.1s finished\n[Parallel(n_jobs=1)]: Using backend SequentialBackend with 1 concurrent workers.\n[Parallel(n_jobs=1)]: Done  40 out of  40 | elapsed:    6.8s finished\n[Parallel(n_jobs=1)]: Using backend SequentialBackend with 1 concurrent workers.\n[Parallel(n_jobs=1)]: Done  40 out of  40 | elapsed:    0.5s finished\n[Parallel(n_jobs=1)]: Using backend SequentialBackend with 1 concurrent workers.\n[Parallel(n_jobs=1)]: Done  40 out of  40 | elapsed:    1.1s finished\n[Parallel(n_jobs=1)]: Using backend SequentialBackend with 1 concurrent workers.\n[Parallel(n_jobs=1)]: Done  40 out of  40 | elapsed:    6.8s finished\n[Parallel(n_jobs=1)]: Using backend SequentialBackend with 1 concurrent workers.\n[Parallel(n_jobs=1)]: Done  40 out of  40 | elapsed:    0.5s finished\n[Parallel(n_jobs=1)]: Using backend SequentialBackend with 1 concurrent workers.\n[Parallel(n_jobs=1)]: Done  40 out of  40 | elapsed:    1.1s finished\n[Parallel(n_jobs=1)]: Using backend SequentialBackend with 1 concurrent workers.\n[Parallel(n_jobs=1)]: Done  50 out of  50 | elapsed:    8.4s finished\n[Parallel(n_jobs=1)]: Using backend SequentialBackend with 1 concurrent workers.\n[Parallel(n_jobs=1)]: Done  50 out of  50 | elapsed:    0.6s finished\n[Parallel(n_jobs=1)]: Using backend SequentialBackend with 1 concurrent workers.\n[Parallel(n_jobs=1)]: Done  50 out of  50 | elapsed:    1.4s finished\n[Parallel(n_jobs=1)]: Using backend SequentialBackend with 1 concurrent workers.\n[Parallel(n_jobs=1)]: Done  50 out of  50 | elapsed:    8.3s finished\n[Parallel(n_jobs=1)]: Using backend SequentialBackend with 1 concurrent workers.\n[Parallel(n_jobs=1)]: Done  50 out of  50 | elapsed:    0.6s finished\n[Parallel(n_jobs=1)]: Using backend SequentialBackend with 1 concurrent workers.\n[Parallel(n_jobs=1)]: Done  50 out of  50 | elapsed:    1.4s finished\n[Parallel(n_jobs=1)]: Using backend SequentialBackend with 1 concurrent workers.\n[Parallel(n_jobs=1)]: Done  50 out of  50 | elapsed:    8.9s finished\n[Parallel(n_jobs=1)]: Using backend SequentialBackend with 1 concurrent workers.\n[Parallel(n_jobs=1)]: Done  50 out of  50 | elapsed:    0.6s finished\n[Parallel(n_jobs=1)]: Using backend SequentialBackend with 1 concurrent workers.\n[Parallel(n_jobs=1)]: Done  50 out of  50 | elapsed:    1.4s finished\n[Parallel(n_jobs=1)]: Using backend SequentialBackend with 1 concurrent workers.\n[Parallel(n_jobs=1)]: Done  60 out of  60 | elapsed:    9.5s finished\n[Parallel(n_jobs=1)]: Using backend SequentialBackend with 1 concurrent workers.\n[Parallel(n_jobs=1)]: Done  60 out of  60 | elapsed:    0.7s finished\n[Parallel(n_jobs=1)]: Using backend SequentialBackend with 1 concurrent workers.\n[Parallel(n_jobs=1)]: Done  60 out of  60 | elapsed:    1.6s finished\n[Parallel(n_jobs=1)]: Using backend SequentialBackend with 1 concurrent workers.\n[Parallel(n_jobs=1)]: Done  60 out of  60 | elapsed:    9.4s finished\n[Parallel(n_jobs=1)]: Using backend SequentialBackend with 1 concurrent workers.\n[Parallel(n_jobs=1)]: Done  60 out of  60 | elapsed:    0.7s finished\n[Parallel(n_jobs=1)]: Using backend SequentialBackend with 1 concurrent workers.\n[Parallel(n_jobs=1)]: Done  60 out of  60 | elapsed:    1.6s finished\n[Parallel(n_jobs=1)]: Using backend SequentialBackend with 1 concurrent workers.\n[Parallel(n_jobs=1)]: Done  60 out of  60 | elapsed:   10.1s finished\n[Parallel(n_jobs=1)]: Using backend SequentialBackend with 1 concurrent workers.\n[Parallel(n_jobs=1)]: Done  60 out of  60 | elapsed:    0.7s finished\n[Parallel(n_jobs=1)]: Using backend SequentialBackend with 1 concurrent workers.\n[Parallel(n_jobs=1)]: Done  60 out of  60 | elapsed:    1.6s finished\n[Parallel(n_jobs=1)]: Using backend SequentialBackend with 1 concurrent workers.\n[Parallel(n_jobs=1)]: Done  70 out of  70 | elapsed:   11.3s finished\n[Parallel(n_jobs=1)]: Using backend SequentialBackend with 1 concurrent workers.\n[Parallel(n_jobs=1)]: Done  70 out of  70 | elapsed:    0.9s finished\n[Parallel(n_jobs=1)]: Using backend SequentialBackend with 1 concurrent workers.\n[Parallel(n_jobs=1)]: Done  70 out of  70 | elapsed:    1.9s finished\n[Parallel(n_jobs=1)]: Using backend SequentialBackend with 1 concurrent workers.\n[Parallel(n_jobs=1)]: Done  70 out of  70 | elapsed:   11.4s finished\n[Parallel(n_jobs=1)]: Using backend SequentialBackend with 1 concurrent workers.\n[Parallel(n_jobs=1)]: Done  70 out of  70 | elapsed:    0.9s finished\n[Parallel(n_jobs=1)]: Using backend SequentialBackend with 1 concurrent workers.\n[Parallel(n_jobs=1)]: Done  70 out of  70 | elapsed:    1.9s finished\n[Parallel(n_jobs=1)]: Using backend SequentialBackend with 1 concurrent workers.\n[Parallel(n_jobs=1)]: Done  70 out of  70 | elapsed:   12.7s finished\n[Parallel(n_jobs=1)]: Using backend SequentialBackend with 1 concurrent workers.\n[Parallel(n_jobs=1)]: Done  70 out of  70 | elapsed:    1.1s finished\n[Parallel(n_jobs=1)]: Using backend SequentialBackend with 1 concurrent workers.\n[Parallel(n_jobs=1)]: Done  70 out of  70 | elapsed:    2.8s finished\n[Parallel(n_jobs=1)]: Using backend SequentialBackend with 1 concurrent workers.\n[Parallel(n_jobs=1)]: Done  80 out of  80 | elapsed:   14.0s finished\n[Parallel(n_jobs=1)]: Using backend SequentialBackend with 1 concurrent workers.\n[Parallel(n_jobs=1)]: Done  80 out of  80 | elapsed:    1.2s finished\n[Parallel(n_jobs=1)]: Using backend SequentialBackend with 1 concurrent workers.\n[Parallel(n_jobs=1)]: Done  80 out of  80 | elapsed:    3.1s finished\n[Parallel(n_jobs=1)]: Using backend SequentialBackend with 1 concurrent workers.\n[Parallel(n_jobs=1)]: Done  80 out of  80 | elapsed:   13.4s finished\n[Parallel(n_jobs=1)]: Using backend SequentialBackend with 1 concurrent workers.\n[Parallel(n_jobs=1)]: Done  80 out of  80 | elapsed:    1.2s finished\n[Parallel(n_jobs=1)]: Using backend SequentialBackend with 1 concurrent workers.\n[Parallel(n_jobs=1)]: Done  80 out of  80 | elapsed:    2.1s finished\n[Parallel(n_jobs=1)]: Using backend SequentialBackend with 1 concurrent workers.\n[Parallel(n_jobs=1)]: Done  80 out of  80 | elapsed:   15.7s finished\n[Parallel(n_jobs=1)]: Using backend SequentialBackend with 1 concurrent workers.\n[Parallel(n_jobs=1)]: Done  80 out of  80 | elapsed:    1.0s finished\n[Parallel(n_jobs=1)]: Using backend SequentialBackend with 1 concurrent workers.\n[Parallel(n_jobs=1)]: Done  80 out of  80 | elapsed:    2.0s finished\n[Parallel(n_jobs=1)]: Using backend SequentialBackend with 1 concurrent workers.\n[Parallel(n_jobs=1)]: Done  60 out of  60 | elapsed:   15.3s finished\n"
    },
    {
     "output_type": "error",
     "ename": "NameError",
     "evalue": "name 'best_params_' is not defined",
     "traceback": [
      "\u001b[1;31m---------------------------------------------------------------------------\u001b[0m",
      "\u001b[1;31mNameError\u001b[0m                                 Traceback (most recent call last)",
      "\u001b[1;32m<ipython-input-52-14e82b5d45bf>\u001b[0m in \u001b[0;36m<module>\u001b[1;34m\u001b[0m\n\u001b[0;32m      1\u001b[0m \u001b[0mforest_grid\u001b[0m\u001b[1;33m.\u001b[0m\u001b[0mfit\u001b[0m\u001b[1;33m(\u001b[0m\u001b[0mx_train\u001b[0m\u001b[1;33m,\u001b[0m\u001b[0my_train\u001b[0m\u001b[1;33m)\u001b[0m\u001b[1;33m\u001b[0m\u001b[1;33m\u001b[0m\u001b[0m\n\u001b[1;32m----> 2\u001b[1;33m \u001b[0mprint\u001b[0m\u001b[1;33m(\u001b[0m\u001b[1;34m'best model parameter:'\u001b[0m\u001b[1;33m,\u001b[0m\u001b[0mforest_grid\u001b[0m\u001b[1;33m,\u001b[0m\u001b[0mbest_params_\u001b[0m\u001b[1;33m)\u001b[0m\u001b[1;33m\u001b[0m\u001b[1;33m\u001b[0m\u001b[0m\n\u001b[0m",
      "\u001b[1;31mNameError\u001b[0m: name 'best_params_' is not defined"
     ]
    }
   ],
   "source": [
    "forest_grid.fit(x_train,y_train)\n"
   ]
  },
  {
   "cell_type": "code",
   "execution_count": 59,
   "metadata": {
    "tags": []
   },
   "outputs": [
    {
     "output_type": "stream",
     "name": "stderr",
     "text": "[Parallel(n_jobs=1)]: Using backend SequentialBackend with 1 concurrent workers.\n[Parallel(n_jobs=1)]: Done  60 out of  60 | elapsed:    2.8s finished\n[Parallel(n_jobs=1)]: Using backend SequentialBackend with 1 concurrent workers.\nscore: 46.83%\n[Parallel(n_jobs=1)]: Done  60 out of  60 | elapsed:    0.6s finished\n[Parallel(n_jobs=1)]: Using backend SequentialBackend with 1 concurrent workers.\nscore: 46.88%\n[Parallel(n_jobs=1)]: Done  60 out of  60 | elapsed:    0.5s finished\n"
    }
   ],
   "source": [
    "best_clf = forest_grid.best_estimator_ #ここにベストパラメータの組み合わせが入っています\n",
    "print('score: {:.2%}'.format(best_clf.score(x_train, y_train)))\n",
    "y_pred = forest_grid.predict(x_test)\n",
    "print('score: {:.2%}'.format(best_clf.score(x_test, y_test)))"
   ]
  },
  {
   "cell_type": "code",
   "execution_count": null,
   "metadata": {},
   "outputs": [],
   "source": []
  }
 ],
 "metadata": {
  "language_info": {
   "codemirror_mode": {
    "name": "ipython",
    "version": 3
   },
   "file_extension": ".py",
   "mimetype": "text/x-python",
   "name": "python",
   "nbconvert_exporter": "python",
   "pygments_lexer": "ipython3",
   "version": 3
  },
  "orig_nbformat": 2,
  "kernelspec": {
   "name": "python_defaultSpec_1594606078310",
   "display_name": "Python 3.7.3 64-bit ('base': conda)"
  }
 },
 "nbformat": 4,
 "nbformat_minor": 2
}