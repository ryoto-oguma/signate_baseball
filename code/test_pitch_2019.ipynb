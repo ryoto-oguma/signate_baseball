{
 "cells": [
  {
   "cell_type": "code",
   "execution_count": 144,
   "metadata": {},
   "outputs": [],
   "source": [
    "import pandas as pd\n",
    "import numpy as np\n",
    "from sklearn import preprocessing"
   ]
  },
  {
   "cell_type": "markdown",
   "metadata": {},
   "source": [
    "### データ読み込み"
   ]
  },
  {
   "cell_type": "code",
   "execution_count": 165,
   "metadata": {},
   "outputs": [],
   "source": [
    "train_pitch = pd.read_csv('C:\\\\Users\\\\oguma\\\\Desktop\\\\山下研究室\\\\signate\\\\広島カープ\\\\球種部門\\\\元データ\\\\test_pitch.csv').query('年度 == 2019')\n",
    "test_pitch = pd.read_csv('C:\\\\Users\\\\oguma\\\\Desktop\\\\山下研究室\\\\signate\\\\広島カープ\\\\球種部門\\\\元データ\\\\test_pitch.csv')\n",
    "train_pitch2 = pd.read_csv('C:\\\\Users\\\\oguma\\\\Desktop\\\\山下研究室\\\\signate\\\\広島カープ\\\\球種部門\\\\元データ\\\\test_pitch.csv').query('年度 == 2018')"
   ]
  },
  {
   "cell_type": "code",
   "execution_count": 166,
   "metadata": {},
   "outputs": [],
   "source": [
    "train = pd.read_csv('C:\\\\Users\\\\oguma\\\\Desktop\\\\山下研究室\\\\signate\\\\広島カープ\\\\球種部門\\\\元データ\\\\train_pitch.csv')"
   ]
  },
  {
   "cell_type": "markdown",
   "metadata": {},
   "source": [
    "### 利用するデータを選ぶ"
   ]
  },
  {
   "cell_type": "markdown",
   "metadata": {},
   "source": [
    "1.[ホームチームID] for 得点差計算\n",
    "2.[アウェイチームID] for 得点差計算\n",
    "3.[イニング]\n",
    "4.[表裏]\n",
    "5.[打席内投球数]\n",
    "6.[投手ID] for train_playerをつなげるため\n",
    "7.[投手試合内投球数]\n",
    "8.[投手イニング投球数]\n",
    "9.[打者ID] for train_playerをつなげるため\n",
    "10.[プレイ前ホームチーム得点]\n",
    "11.[プレイ前アウェイチーム得点]\n",
    "12.プレイ前アウト数\n",
    "13.プレイ前ボール数\n",
    "14.プレイ前ストライク数\n",
    "15.プレイ前走者状況\n",
    "16.一塁走者ID\n",
    "17.二塁走者ID\n",
    "18.三塁走者ID"
   ]
  },
  {
   "cell_type": "code",
   "execution_count": 167,
   "metadata": {},
   "outputs": [],
   "source": [
    "indexs = np.arange(len(train_pitch2),len(test_pitch),1)\n",
    "indexs = list(indexs)"
   ]
  },
  {
   "cell_type": "code",
   "execution_count": 168,
   "metadata": {},
   "outputs": [
    {
     "output_type": "execute_result",
     "data": {
      "text/plain": "521649"
     },
     "metadata": {},
     "execution_count": 168
    }
   ],
   "source": [
    "indexs[-1]"
   ]
  },
  {
   "cell_type": "markdown",
   "metadata": {},
   "source": [
    "## 1.[得点差計算]"
   ]
  },
  {
   "cell_type": "code",
   "execution_count": 169,
   "metadata": {},
   "outputs": [],
   "source": [
    "#データ抽出\n",
    "h_a_p = train_pitch[['ホームチームID','アウェイチームID','プレイ前ホームチーム得点数','プレイ前アウェイチーム得点数','投手チームID']]"
   ]
  },
  {
   "cell_type": "code",
   "execution_count": 170,
   "metadata": {},
   "outputs": [
    {
     "output_type": "execute_result",
     "data": {
      "text/plain": "        ホームチームID  アウェイチームID  プレイ前ホームチーム得点数  プレイ前アウェイチーム得点数  投手チームID\n261105         3          4              0               0        3\n261106         3          4              0               0        3\n261107         3          4              0               0        3\n261108         3          4              0               0        3\n261109         3          4              0               0        3",
      "text/html": "<div>\n<style scoped>\n    .dataframe tbody tr th:only-of-type {\n        vertical-align: middle;\n    }\n\n    .dataframe tbody tr th {\n        vertical-align: top;\n    }\n\n    .dataframe thead th {\n        text-align: right;\n    }\n</style>\n<table border=\"1\" class=\"dataframe\">\n  <thead>\n    <tr style=\"text-align: right;\">\n      <th></th>\n      <th>ホームチームID</th>\n      <th>アウェイチームID</th>\n      <th>プレイ前ホームチーム得点数</th>\n      <th>プレイ前アウェイチーム得点数</th>\n      <th>投手チームID</th>\n    </tr>\n  </thead>\n  <tbody>\n    <tr>\n      <th>261105</th>\n      <td>3</td>\n      <td>4</td>\n      <td>0</td>\n      <td>0</td>\n      <td>3</td>\n    </tr>\n    <tr>\n      <th>261106</th>\n      <td>3</td>\n      <td>4</td>\n      <td>0</td>\n      <td>0</td>\n      <td>3</td>\n    </tr>\n    <tr>\n      <th>261107</th>\n      <td>3</td>\n      <td>4</td>\n      <td>0</td>\n      <td>0</td>\n      <td>3</td>\n    </tr>\n    <tr>\n      <th>261108</th>\n      <td>3</td>\n      <td>4</td>\n      <td>0</td>\n      <td>0</td>\n      <td>3</td>\n    </tr>\n    <tr>\n      <th>261109</th>\n      <td>3</td>\n      <td>4</td>\n      <td>0</td>\n      <td>0</td>\n      <td>3</td>\n    </tr>\n  </tbody>\n</table>\n</div>"
     },
     "metadata": {},
     "execution_count": 170
    }
   ],
   "source": [
    "h_a_p.head()"
   ]
  },
  {
   "cell_type": "code",
   "execution_count": 171,
   "metadata": {},
   "outputs": [],
   "source": [
    "d_p = []\n",
    "p_id = h_a_p['投手チームID'].tolist()\n",
    "h_id = h_a_p['ホームチームID'].tolist()\n",
    "a_id = h_a_p['アウェイチームID'].tolist()\n",
    "h_p = h_a_p['プレイ前ホームチーム得点数'].tolist()\n",
    "a_p = h_a_p['プレイ前アウェイチーム得点数'].tolist()\n",
    "\n",
    "for i in range(len(h_a_p)):\n",
    "    if p_id[i] == h_id[i]:#投手がホームチームの時\n",
    "        d_p.append(h_p[i] - a_p[i])\n",
    "    else:#投手がアウェイチームの時\n",
    "        d_p.append(a_p[i] - h_p[i])"
   ]
  },
  {
   "cell_type": "code",
   "execution_count": 172,
   "metadata": {},
   "outputs": [],
   "source": [
    "d_p = pd.DataFrame(d_p)\n",
    "#特徴量(得点差)\n",
    "d_p.columns = ['得点差']"
   ]
  },
  {
   "cell_type": "code",
   "execution_count": 173,
   "metadata": {},
   "outputs": [],
   "source": [
    "d_p.index = indexs"
   ]
  },
  {
   "cell_type": "markdown",
   "metadata": {},
   "source": [
    "## 2.[イニングのone_hot_encoding]"
   ]
  },
  {
   "cell_type": "code",
   "execution_count": 174,
   "metadata": {},
   "outputs": [],
   "source": [
    "inning = train_pitch['イニング']"
   ]
  },
  {
   "cell_type": "code",
   "execution_count": 175,
   "metadata": {},
   "outputs": [],
   "source": [
    "inning_one_hot = pd.get_dummies(inning)\n",
    "inning_one_hot.columns = ['1回','2回','3回','4回','5回','6回','7回','8回','9回','10回','11回','12回']"
   ]
  },
  {
   "cell_type": "code",
   "execution_count": 176,
   "metadata": {},
   "outputs": [],
   "source": [
    "#イニングの特徴量完成\n",
    "inning_one_hot = inning_one_hot.drop(['12回'],axis = 1)"
   ]
  },
  {
   "cell_type": "code",
   "execution_count": 177,
   "metadata": {},
   "outputs": [],
   "source": [
    "inning_one_hot.index = indexs"
   ]
  },
  {
   "cell_type": "markdown",
   "metadata": {},
   "source": [
    "## 3.[表裏のone_hot_encoding]"
   ]
  },
  {
   "cell_type": "code",
   "execution_count": 178,
   "metadata": {},
   "outputs": [],
   "source": [
    "o_u = train_pitch['表裏']"
   ]
  },
  {
   "cell_type": "code",
   "execution_count": 179,
   "metadata": {},
   "outputs": [],
   "source": [
    "o_u_one_hot = pd.get_dummies(o_u)\n",
    "o_u_one_hot.columns = ['表','裏']"
   ]
  },
  {
   "cell_type": "code",
   "execution_count": 180,
   "metadata": {},
   "outputs": [],
   "source": [
    "#表裏の特徴量完成\n",
    "o_u_one_hot = o_u_one_hot.drop(['裏'],axis = 1)"
   ]
  },
  {
   "cell_type": "code",
   "execution_count": 181,
   "metadata": {},
   "outputs": [],
   "source": [
    "o_u_one_hot.index = indexs"
   ]
  },
  {
   "cell_type": "markdown",
   "metadata": {},
   "source": [
    "## 4.[試合内投球数]"
   ]
  },
  {
   "cell_type": "code",
   "execution_count": 182,
   "metadata": {},
   "outputs": [],
   "source": [
    "#そのまま\n",
    "n_p_g = train_pitch['試合内投球数']\n",
    "n_p_g = pd.DataFrame(n_p_g)\n",
    "n_p_g.columns = ['試合内投球数']\n",
    "n_p_g_l = train_pitch['試合内投球数'].tolist()\n",
    "#mm = preprocessing.MinMaxScaler()"
   ]
  },
  {
   "cell_type": "code",
   "execution_count": 183,
   "metadata": {},
   "outputs": [],
   "source": [
    "#0~1正規化\n",
    "n_p_g_s = preprocessing.minmax_scale(n_p_g_l)\n",
    "n_p_g_s = pd.DataFrame(n_p_g_s)\n",
    "n_p_g_s.columns = ['試合内投球数']\n",
    "#標準化\n",
    "n_p_g_h = preprocessing.scale(n_p_g_l)\n",
    "n_p_g_h = pd.DataFrame(n_p_g_h)\n",
    "n_p_g_h.columns = ['試合内投球数']\n"
   ]
  },
  {
   "cell_type": "code",
   "execution_count": 184,
   "metadata": {},
   "outputs": [],
   "source": [
    "n_p_g.index = indexs\n",
    "n_p_g_h.index = indexs\n",
    "n_p_g_s.index = indexs"
   ]
  },
  {
   "cell_type": "markdown",
   "metadata": {},
   "source": [
    "## 5.[投手ID]"
   ]
  },
  {
   "cell_type": "code",
   "execution_count": 185,
   "metadata": {},
   "outputs": [],
   "source": [
    "#特にいじる必要なし\n",
    "p_id = pd.DataFrame(train_pitch['投手ID'])\n",
    "p_id.columns = ['投手ID']"
   ]
  },
  {
   "cell_type": "code",
   "execution_count": 186,
   "metadata": {},
   "outputs": [],
   "source": [
    "p_id.index = indexs"
   ]
  },
  {
   "cell_type": "markdown",
   "metadata": {},
   "source": [
    "## [捕手ID]"
   ]
  },
  {
   "cell_type": "code",
   "execution_count": 187,
   "metadata": {},
   "outputs": [],
   "source": [
    "#特にいじる必要なし\n",
    "c_id = pd.DataFrame(train_pitch['捕手ID'])\n",
    "c_id.columns = ['捕手ID']"
   ]
  },
  {
   "cell_type": "code",
   "execution_count": 188,
   "metadata": {},
   "outputs": [],
   "source": [
    "c_id.index = indexs"
   ]
  },
  {
   "cell_type": "markdown",
   "metadata": {},
   "source": [
    "## 6.[打席内投球数]"
   ]
  },
  {
   "cell_type": "code",
   "execution_count": 189,
   "metadata": {},
   "outputs": [],
   "source": [
    "#そのまま\n",
    "n_p_d = train_pitch['打席内投球数']\n",
    "n_p_d = pd.DataFrame(n_p_d)\n",
    "n_p_d.columns = ['打席内投球数']\n",
    "n_p_d_l = train_pitch['打席内投球数'].tolist()\n",
    "#mm = preprocessing.MinMaxScaler()"
   ]
  },
  {
   "cell_type": "code",
   "execution_count": 190,
   "metadata": {},
   "outputs": [],
   "source": [
    "#0~1正規化\n",
    "n_p_d_s = preprocessing.minmax_scale(n_p_d_l)\n",
    "n_p_d_s = pd.DataFrame(n_p_d_s)\n",
    "n_p_d_s.columns = ['打席内投球数']\n",
    "#標準化\n",
    "n_p_d_h = preprocessing.scale(n_p_d_l)\n",
    "n_p_d_h = pd.DataFrame(n_p_d_h)\n",
    "n_p_d_h.columns = ['打席内投球数']"
   ]
  },
  {
   "cell_type": "code",
   "execution_count": 191,
   "metadata": {},
   "outputs": [],
   "source": [
    "n_p_d.index = indexs\n",
    "n_p_d_s.index = indexs\n",
    "n_p_d_h.index = indexs"
   ]
  },
  {
   "cell_type": "markdown",
   "metadata": {},
   "source": [
    "## 7.[投手イニング内投球数]"
   ]
  },
  {
   "cell_type": "code",
   "execution_count": 192,
   "metadata": {},
   "outputs": [],
   "source": [
    "#そのまま\n",
    "n_p_i = train_pitch['投手イニング内投球数']\n",
    "n_p_i = pd.DataFrame(n_p_i)\n",
    "n_p_i.columns = ['投手イニング内投球数']\n",
    "n_p_i_l = train_pitch['投手イニング内投球数'].tolist()\n",
    "#mm = preprocessing.MinMaxScaler()"
   ]
  },
  {
   "cell_type": "code",
   "execution_count": 193,
   "metadata": {},
   "outputs": [],
   "source": [
    "#0~1正規化\n",
    "n_p_i_s = preprocessing.minmax_scale(n_p_i_l)\n",
    "n_p_i_s = pd.DataFrame(n_p_i_s)\n",
    "n_p_i_s.columns = ['投手イニング内投球数']\n",
    "#標準化\n",
    "n_p_i_h = preprocessing.scale(n_p_i_l)\n",
    "n_p_i_h = pd.DataFrame(n_p_i_h)\n",
    "n_p_i_h.columns = ['投手イニング内投球数']"
   ]
  },
  {
   "cell_type": "code",
   "execution_count": 194,
   "metadata": {},
   "outputs": [],
   "source": [
    "n_p_i.index = indexs\n",
    "n_p_i_h.index = indexs\n",
    "n_p_i_s.index = indexs"
   ]
  },
  {
   "cell_type": "markdown",
   "metadata": {},
   "source": [
    "## 8.[打者ID]"
   ]
  },
  {
   "cell_type": "code",
   "execution_count": 195,
   "metadata": {},
   "outputs": [],
   "source": [
    "#特にいじる必要なし\n",
    "d_id = pd.DataFrame(train_pitch['打者ID'])\n",
    "d_id.columns = ['打者ID']"
   ]
  },
  {
   "cell_type": "code",
   "execution_count": 196,
   "metadata": {},
   "outputs": [],
   "source": [
    "d_id.index = indexs"
   ]
  },
  {
   "cell_type": "markdown",
   "metadata": {},
   "source": [
    "## 9.[プレイ前アウト数]"
   ]
  },
  {
   "cell_type": "code",
   "execution_count": 197,
   "metadata": {},
   "outputs": [],
   "source": [
    "num_out = train_pitch['プレイ前アウト数']"
   ]
  },
  {
   "cell_type": "code",
   "execution_count": 198,
   "metadata": {},
   "outputs": [],
   "source": [
    "num_out_one_hot = pd.get_dummies(num_out)\n",
    "num_out_one_hot.columns = ['No out','1out','2out']"
   ]
  },
  {
   "cell_type": "code",
   "execution_count": 199,
   "metadata": {},
   "outputs": [],
   "source": [
    "#アウト数の特徴量完成\n",
    "num_out_one_hot = num_out_one_hot.drop(['2out'],axis = 1)"
   ]
  },
  {
   "cell_type": "code",
   "execution_count": 200,
   "metadata": {},
   "outputs": [],
   "source": [
    "num_out_one_hot.index = indexs"
   ]
  },
  {
   "cell_type": "markdown",
   "metadata": {},
   "source": [
    "## 10.[プレイ前ボール数]"
   ]
  },
  {
   "cell_type": "code",
   "execution_count": 201,
   "metadata": {},
   "outputs": [],
   "source": [
    "num_ball = train_pitch['プレイ前ボール数']"
   ]
  },
  {
   "cell_type": "code",
   "execution_count": 202,
   "metadata": {},
   "outputs": [],
   "source": [
    "num_ball_one_hot = pd.get_dummies(num_ball)\n",
    "num_ball_one_hot.columns = ['No ball','1ball','2ball','3ball']"
   ]
  },
  {
   "cell_type": "code",
   "execution_count": 203,
   "metadata": {},
   "outputs": [],
   "source": [
    "#アウト数の特徴量完成\n",
    "num_ball_one_hot = num_ball_one_hot.drop(['3ball'],axis = 1)"
   ]
  },
  {
   "cell_type": "code",
   "execution_count": 204,
   "metadata": {},
   "outputs": [],
   "source": [
    "num_ball_one_hot.index = indexs"
   ]
  },
  {
   "cell_type": "markdown",
   "metadata": {},
   "source": [
    "## 11.[プレイ前ストライク数]"
   ]
  },
  {
   "cell_type": "code",
   "execution_count": 205,
   "metadata": {},
   "outputs": [],
   "source": [
    "num_strike = train_pitch['プレイ前ストライク数']"
   ]
  },
  {
   "cell_type": "code",
   "execution_count": 206,
   "metadata": {},
   "outputs": [],
   "source": [
    "num_strike_one_hot = pd.get_dummies(num_strike)\n",
    "num_strike_one_hot.columns = ['No strike','1strike','2strike']"
   ]
  },
  {
   "cell_type": "code",
   "execution_count": 207,
   "metadata": {},
   "outputs": [],
   "source": [
    "#アウト数の特徴量完成\n",
    "num_strike_one_hot = num_strike_one_hot.drop(['2strike'],axis = 1)"
   ]
  },
  {
   "cell_type": "code",
   "execution_count": 208,
   "metadata": {},
   "outputs": [],
   "source": [
    "num_strike_one_hot.index = indexs"
   ]
  },
  {
   "cell_type": "markdown",
   "metadata": {},
   "source": []
  },
  {
   "cell_type": "markdown",
   "metadata": {},
   "source": [
    "## 12.[一塁走者ID]"
   ]
  },
  {
   "cell_type": "code",
   "execution_count": 209,
   "metadata": {},
   "outputs": [],
   "source": [
    "#Nanを0に他を1にする\n",
    "one_base = train_pitch['一塁走者ID'].fillna(0).tolist()"
   ]
  },
  {
   "cell_type": "code",
   "execution_count": 210,
   "metadata": {},
   "outputs": [],
   "source": [
    "one_base_one_hot = []\n",
    "for i in one_base:\n",
    "    if i == 0.0:\n",
    "        one_base_one_hot.append(0)\n",
    "    else:\n",
    "        one_base_one_hot.append(1)"
   ]
  },
  {
   "cell_type": "code",
   "execution_count": 211,
   "metadata": {},
   "outputs": [],
   "source": [
    "one_base_one_hot = pd.DataFrame(one_base_one_hot)\n",
    "one_base_one_hot.columns = ['一塁走者有無']"
   ]
  },
  {
   "cell_type": "code",
   "execution_count": 212,
   "metadata": {},
   "outputs": [],
   "source": [
    "one_base_one_hot.index = indexs"
   ]
  },
  {
   "cell_type": "markdown",
   "metadata": {},
   "source": [
    "## 13.[二塁走者]"
   ]
  },
  {
   "cell_type": "code",
   "execution_count": 213,
   "metadata": {},
   "outputs": [],
   "source": [
    "#Nanを0に他を1にする\n",
    "two_base = train_pitch['二塁走者ID'].fillna(0).tolist()"
   ]
  },
  {
   "cell_type": "code",
   "execution_count": 214,
   "metadata": {},
   "outputs": [],
   "source": [
    "two_base_one_hot = []\n",
    "for i in two_base:\n",
    "    if i == 0.0:\n",
    "        two_base_one_hot.append(0)\n",
    "    else:\n",
    "        two_base_one_hot.append(1)"
   ]
  },
  {
   "cell_type": "code",
   "execution_count": 215,
   "metadata": {},
   "outputs": [],
   "source": [
    "two_base_one_hot = pd.DataFrame(two_base_one_hot)\n",
    "two_base_one_hot.columns = ['二塁走者有無']"
   ]
  },
  {
   "cell_type": "code",
   "execution_count": 216,
   "metadata": {},
   "outputs": [],
   "source": [
    "two_base_one_hot.index = indexs"
   ]
  },
  {
   "cell_type": "markdown",
   "metadata": {},
   "source": [
    "## 14.[三塁走者]"
   ]
  },
  {
   "cell_type": "code",
   "execution_count": 217,
   "metadata": {},
   "outputs": [],
   "source": [
    "#Nanを0に他を1にする\n",
    "three_base = train_pitch['三塁走者ID'].fillna(0).tolist()"
   ]
  },
  {
   "cell_type": "code",
   "execution_count": 218,
   "metadata": {},
   "outputs": [],
   "source": [
    "three_base_one_hot = []\n",
    "for i in three_base:\n",
    "    if i == 0.0:\n",
    "        three_base_one_hot.append(0)\n",
    "    else:\n",
    "        three_base_one_hot.append(1)"
   ]
  },
  {
   "cell_type": "code",
   "execution_count": 219,
   "metadata": {},
   "outputs": [],
   "source": [
    "three_base_one_hot = pd.DataFrame(three_base_one_hot)\n",
    "three_base_one_hot.columns = ['三塁走者有無']"
   ]
  },
  {
   "cell_type": "code",
   "execution_count": 220,
   "metadata": {},
   "outputs": [],
   "source": [
    "three_base_one_hot.index = indexs"
   ]
  },
  {
   "cell_type": "markdown",
   "metadata": {},
   "source": [
    "## 14.[投手投球左右]"
   ]
  },
  {
   "cell_type": "code",
   "execution_count": 221,
   "metadata": {},
   "outputs": [],
   "source": [
    "pi_r_l = train_pitch['投手投球左右']"
   ]
  },
  {
   "cell_type": "code",
   "execution_count": 222,
   "metadata": {
    "tags": []
   },
   "outputs": [],
   "source": [
    "pi_r_l_one_hot = pd.get_dummies(pi_r_l)\n",
    "#print(pi_r_l_one_hot)\n",
    "pi_r_l_one_hot.columns = ['右投げ','左投げ']"
   ]
  },
  {
   "cell_type": "code",
   "execution_count": 223,
   "metadata": {},
   "outputs": [],
   "source": [
    "#アウト数の特徴量完成\n",
    "pi_r_l_one_hot = pi_r_l_one_hot.drop(['左投げ'],axis = 1)"
   ]
  },
  {
   "cell_type": "code",
   "execution_count": 224,
   "metadata": {},
   "outputs": [],
   "source": [
    "pi_r_l_one_hot.index = indexs"
   ]
  },
  {
   "cell_type": "markdown",
   "metadata": {},
   "source": [
    "## 15.[打者打席左右]"
   ]
  },
  {
   "cell_type": "code",
   "execution_count": 225,
   "metadata": {},
   "outputs": [],
   "source": [
    "b_r_l = train_pitch['打者打席左右']"
   ]
  },
  {
   "cell_type": "code",
   "execution_count": 226,
   "metadata": {
    "tags": []
   },
   "outputs": [],
   "source": [
    "b_r_l_one_hot = pd.get_dummies(b_r_l)\n",
    "#print(b_r_l_one_hot)\n",
    "b_r_l_one_hot.columns = ['右打ち','左打ち']"
   ]
  },
  {
   "cell_type": "code",
   "execution_count": 227,
   "metadata": {},
   "outputs": [],
   "source": [
    "#アウト数の特徴量完成\n",
    "b_r_l_one_hot = b_r_l_one_hot.drop(['左打ち'],axis = 1)"
   ]
  },
  {
   "cell_type": "code",
   "execution_count": 228,
   "metadata": {},
   "outputs": [],
   "source": [
    "b_r_l_one_hot.index = indexs"
   ]
  },
  {
   "cell_type": "markdown",
   "metadata": {},
   "source": [
    "特徴量一覧"
   ]
  },
  {
   "cell_type": "markdown",
   "metadata": {},
   "source": [
    "##### d_p:得点差\n",
    "##### inning_one_hot:イニング\n",
    "##### o_u_one_hot:表裏\n",
    "##### n_p_g:試合内投球数\n",
    "##### n_p_g_s:試合内投球数(正規化)\n",
    "##### n_p_g_h:試合内投球数(標準化)\n",
    "##### p_id:投手ID\n",
    "##### n_p_d:打席内投球数\n",
    "##### n_p_d_s:打席内投球数(正規化)\n",
    "##### n_p_d_h:打席内投球数(標準化)\n",
    "##### n_p_i:イニング内投球数\n",
    "##### n_p_i_s:イニング内投球数(正規化)\n",
    "##### n_p_i_h:イニング内投球数(標準化)\n",
    "##### d_id:打者ID\n",
    "##### num_out_one_hot:プレイ前アウト数\n",
    "##### num_ball_one_hot:プレイ前ボール数\n",
    "##### num_strike_one_hot:プレイ前ストライク数\n",
    "##### one_base_one_hot:一塁走者有無\n",
    "##### two_base_one_hot:二塁走者有無\n",
    "##### three_base_one_hot:三塁走者有無\n",
    "##### pi_r_l:投手投球左右\n",
    "##### b_r_l:打者打席左右\n",
    "##### c_id:捕手ID"
   ]
  },
  {
   "cell_type": "markdown",
   "metadata": {},
   "source": [
    "## [特徴量結合]"
   ]
  },
  {
   "cell_type": "code",
   "execution_count": 229,
   "metadata": {},
   "outputs": [],
   "source": [
    "#正規化・標準化なし\n",
    "data_list_1 = [d_p,inning_one_hot,o_u_one_hot,n_p_g,p_id,n_p_d,n_p_i,d_id,num_out_one_hot,num_ball_one_hot,num_strike_one_hot,one_base_one_hot,two_base_one_hot,three_base_one_hot,pi_r_l_one_hot,b_r_l_one_hot,c_id]\n",
    "#正規化\n",
    "data_list_2 = [d_p,inning_one_hot,o_u_one_hot,n_p_g_s,p_id,n_p_d_s,n_p_i_s,d_id,num_out_one_hot,num_ball_one_hot,num_strike_one_hot,one_base_one_hot,two_base_one_hot,three_base_one_hot,pi_r_l_one_hot,b_r_l_one_hot,c_id]\n",
    "#標準化\n",
    "data_list_3 = [d_p,inning_one_hot,o_u_one_hot,n_p_g_h,p_id,n_p_d_h,n_p_i_h,d_id,num_out_one_hot,num_ball_one_hot,num_strike_one_hot,one_base_one_hot,two_base_one_hot,three_base_one_hot,pi_r_l_one_hot,b_r_l_one_hot,c_id]"
   ]
  },
  {
   "cell_type": "code",
   "execution_count": 230,
   "metadata": {},
   "outputs": [],
   "source": [
    "data = pd.concat(data_list_1,axis = 1)"
   ]
  },
  {
   "cell_type": "code",
   "execution_count": 231,
   "metadata": {},
   "outputs": [],
   "source": [
    "data.to_csv('C:\\\\Users\\\\oguma\\\\Desktop\\\\山下研究室\\\\signate\\\\広島カープ\\\\球種部門\\\\特徴量エンジニアリング\\\\data\\\\test_pitch_2019.csv')"
   ]
  },
  {
   "cell_type": "markdown",
   "metadata": {},
   "source": [
    "## [ラベル用意]"
   ]
  },
  {
   "cell_type": "code",
   "execution_count": 112,
   "metadata": {},
   "outputs": [],
   "source": [
    "label = pd.DataFrame(train_pitch['球種'])\n",
    "label.columns = ['球種']"
   ]
  },
  {
   "cell_type": "code",
   "execution_count": 113,
   "metadata": {},
   "outputs": [],
   "source": [
    "label.to_csv('C:\\\\Users\\\\oguma\\\\Desktop\\\\山下研究室\\\\signate\\\\広島カープ\\\\球種部門\\\\特徴量エンジニアリング\\\\data\\\\label.csv')"
   ]
  },
  {
   "cell_type": "markdown",
   "metadata": {},
   "source": [
    "## データの結合"
   ]
  },
  {
   "cell_type": "code",
   "execution_count": 232,
   "metadata": {},
   "outputs": [],
   "source": [
    "pitch = pd.read_csv('C:\\\\Users\\\\oguma\\\\Desktop\\\\山下研究室\\\\signate\\\\広島カープ\\\\球種部門\\\\特徴量エンジニアリング\\\\data\\\\test_pitch_2019.csv')\n",
    "pitch = pitch.iloc[:,1:]\n",
    "\n",
    "player = pd.read_csv('C:\\\\Users\\\\oguma\\\\Desktop\\\\山下研究室\\\\signate\\\\広島カープ\\\\球種部門\\\\特徴量エンジニアリング\\\\data\\\\test_player_2019.csv')\n",
    "player = player.iloc[:,1:]"
   ]
  },
  {
   "cell_type": "code",
   "execution_count": 233,
   "metadata": {},
   "outputs": [],
   "source": [
    "#投手のみ\n",
    "merge_1 = pd.merge(pitch,player,left_on = '投手ID',right_on = '選手ID')\n",
    "merge_1 = merge_1.rename(columns={'身長':'投手身長','体重':'投手体重','年俸':'投手年俸'})\n",
    "merge_1 = merge_1.drop(['投手ID'],axis = 1)"
   ]
  },
  {
   "cell_type": "code",
   "execution_count": 234,
   "metadata": {},
   "outputs": [],
   "source": [
    "#投手と打者\n",
    "merge_2 = pd.merge(merge_1,player,left_on = '打者ID',right_on = '選手ID')\n",
    "merge_2 = merge_2.rename(columns={'身長':'打者身長','体重':'打者体重','年俸':'打者年俸'})\n",
    "merge_2 = merge_2.drop(['打者ID'],axis = 1)"
   ]
  },
  {
   "cell_type": "code",
   "execution_count": 235,
   "metadata": {},
   "outputs": [],
   "source": [
    "#投手と打者と捕手\n",
    "merge_3 = pd.merge(merge_2,player,left_on = '捕手ID',right_on = '選手ID')\n",
    "merge_3 = merge_3.rename(columns={'身長':'捕手身長','体重':'捕手体重','年俸':'捕手年俸'})\n",
    "merge_3 = merge_3.drop(['捕手ID'],axis = 1)"
   ]
  },
  {
   "cell_type": "markdown",
   "metadata": {},
   "source": [
    "## 選手IDを削除"
   ]
  },
  {
   "cell_type": "code",
   "execution_count": 236,
   "metadata": {},
   "outputs": [],
   "source": [
    "merge_1 = merge_1.drop(['選手ID','打者ID','捕手ID'],axis = 1)\n",
    "merge_2 = merge_2.drop(['選手ID_x','捕手ID','選手ID_y'],axis = 1)\n",
    "merge_3 = merge_3.drop(['選手ID','選手ID_x','選手ID_y'],axis = 1)"
   ]
  },
  {
   "cell_type": "markdown",
   "metadata": {},
   "source": [
    "## csvへ"
   ]
  },
  {
   "cell_type": "code",
   "execution_count": 237,
   "metadata": {},
   "outputs": [
    {
     "output_type": "execute_result",
     "data": {
      "text/plain": "Index(['得点差', '1回', '2回', '3回', '4回', '5回', '6回', '7回', '8回', '9回', '10回',\n       '11回', '表', '試合内投球数', '打席内投球数', '投手イニング内投球数', 'No out', '1out',\n       'No ball', '1ball', '2ball', 'No strike', '1strike', '一塁走者有無', '二塁走者有無',\n       '三塁走者有無', '右投げ', '右打ち', '投手身長', '投手体重', '投手年俸', '打者身長', '打者体重', '打者年俸',\n       '捕手身長', '捕手体重', '捕手年俸'],\n      dtype='object')"
     },
     "metadata": {},
     "execution_count": 237
    }
   ],
   "source": [
    "merge_3.columns"
   ]
  },
  {
   "cell_type": "code",
   "execution_count": 238,
   "metadata": {},
   "outputs": [],
   "source": [
    "merge_3.to_csv('C:\\\\Users\\\\oguma\\\\Desktop\\\\山下研究室\\\\signate\\\\広島カープ\\\\球種部門\\\\特徴量エンジニアリング\\\\data\\\\test_merge_2019.csv')"
   ]
  },
  {
   "cell_type": "markdown",
   "metadata": {},
   "source": [
    "## 年度結合"
   ]
  },
  {
   "cell_type": "code",
   "execution_count": 248,
   "metadata": {},
   "outputs": [],
   "source": [
    "test_merge_2018 = pd.read_csv('C:\\\\Users\\\\oguma\\\\Desktop\\\\山下研究室\\\\signate\\\\広島カープ\\\\球種部門\\\\特徴量エンジニアリング\\\\data\\\\test_merge_2018.csv')\n",
    "test_merge_2018 = test_merge_2018.iloc[:,1:]\n",
    "\n",
    "test_merge_2019 = pd.read_csv('C:\\\\Users\\\\oguma\\\\Desktop\\\\山下研究室\\\\signate\\\\広島カープ\\\\球種部門\\\\特徴量エンジニアリング\\\\data\\\\test_merge_2019.csv')\n",
    "test_merge_2019 = test_merge_2019.iloc[:,1:]"
   ]
  },
  {
   "cell_type": "code",
   "execution_count": 250,
   "metadata": {},
   "outputs": [],
   "source": [
    "test_merge_2019.index = indexs"
   ]
  },
  {
   "cell_type": "code",
   "execution_count": 251,
   "metadata": {},
   "outputs": [],
   "source": [
    "final_data = pd.concat([test_merge_2018,test_merge_2019])"
   ]
  },
  {
   "cell_type": "markdown",
   "metadata": {},
   "source": [
    "## [選手ID]"
   ]
  },
  {
   "cell_type": "code",
   "execution_count": 253,
   "metadata": {},
   "outputs": [],
   "source": [
    "len(final_data)\n",
    "p = pd.DataFrame(np.zeros((521650,326)))"
   ]
  },
  {
   "cell_type": "code",
   "execution_count": 254,
   "metadata": {},
   "outputs": [],
   "source": [
    "columns = pd.get_dummies(train['投手ID']).columns"
   ]
  },
  {
   "cell_type": "code",
   "execution_count": 255,
   "metadata": {},
   "outputs": [],
   "source": [
    "columns = list(map(str,columns))"
   ]
  },
  {
   "cell_type": "code",
   "execution_count": 256,
   "metadata": {},
   "outputs": [],
   "source": [
    "p.columns = columns"
   ]
  },
  {
   "cell_type": "code",
   "execution_count": 257,
   "metadata": {},
   "outputs": [],
   "source": [
    "p_id = train_pitch['投手ID'].to_list()\n",
    "for i in range(len(p_id)):\n",
    "    if p_id[i] in columns:\n",
    "        p.loc[i,p_id[i]] = 1"
   ]
  },
  {
   "cell_type": "code",
   "execution_count": 130,
   "metadata": {},
   "outputs": [
    {
     "output_type": "execute_result",
     "data": {
      "text/plain": "Index(['11606', '11766', '11807', '12103', '12113', '12140', '12160', '12179',\n       '12191', '12192',\n       ...\n       '1600189', '1600190', '1600191', '1600192', '1700004', '1700005',\n       '1700006', '1700011', '1700015', '1700016'],\n      dtype='object', length=326)"
     },
     "metadata": {},
     "execution_count": 130
    }
   ],
   "source": []
  },
  {
   "cell_type": "markdown",
   "metadata": {},
   "source": [
    "## 投手ID結合"
   ]
  },
  {
   "cell_type": "code",
   "execution_count": 267,
   "metadata": {},
   "outputs": [
    {
     "output_type": "execute_result",
     "data": {
      "text/plain": "521650"
     },
     "metadata": {},
     "execution_count": 267
    }
   ],
   "source": [
    "a = final_data.index == p.index\n",
    "a.sum()"
   ]
  },
  {
   "cell_type": "code",
   "execution_count": 268,
   "metadata": {},
   "outputs": [],
   "source": [
    "final_data = pd.concat([final_data,p],axis = 1)"
   ]
  },
  {
   "cell_type": "markdown",
   "metadata": {},
   "source": [
    "## final_dataの順番check"
   ]
  },
  {
   "cell_type": "code",
   "execution_count": 274,
   "metadata": {},
   "outputs": [],
   "source": [
    "train_merge = pd.read_csv('C:\\\\Users\\\\oguma\\\\Desktop\\\\山下研究室\\\\signate\\\\広島カープ\\\\球種部門\\\\特徴量エンジニアリング\\\\data\\\\merge2.csv')\n",
    "colum = train_merge.columns[1:]"
   ]
  },
  {
   "cell_type": "code",
   "execution_count": 275,
   "metadata": {},
   "outputs": [],
   "source": [
    "final_data = final_data[colum]"
   ]
  },
  {
   "cell_type": "code",
   "execution_count": 280,
   "metadata": {},
   "outputs": [],
   "source": [
    "final_data.to_csv('C:\\\\Users\\\\oguma\\\\Desktop\\\\山下研究室\\\\signate\\\\広島カープ\\\\球種部門\\\\特徴量エンジニアリング\\\\data\\\\final_merge2.csv')"
   ]
  },
  {
   "cell_type": "code",
   "execution_count": null,
   "metadata": {},
   "outputs": [],
   "source": []
  }
 ],
 "metadata": {
  "language_info": {
   "codemirror_mode": {
    "name": "ipython",
    "version": 3
   },
   "file_extension": ".py",
   "mimetype": "text/x-python",
   "name": "python",
   "nbconvert_exporter": "python",
   "pygments_lexer": "ipython3",
   "version": 3
  },
  "orig_nbformat": 2,
  "kernelspec": {
   "name": "python_defaultSpec_1594524359350",
   "display_name": "Python 3.7.3 64-bit ('base': conda)"
  }
 },
 "nbformat": 4,
 "nbformat_minor": 2
}