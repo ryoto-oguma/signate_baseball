{
 "cells": [
  {
   "cell_type": "code",
   "execution_count": 1,
   "metadata": {},
   "outputs": [],
   "source": [
    "import pandas as pd\n",
    "import numpy as np\n",
    "from sklearn import preprocessing"
   ]
  },
  {
   "cell_type": "markdown",
   "metadata": {},
   "source": [
    "### データ読み込み"
   ]
  },
  {
   "cell_type": "code",
   "execution_count": 2,
   "metadata": {},
   "outputs": [],
   "source": [
    "train_pitch = pd.read_csv('C:\\\\Users\\\\oguma\\\\Desktop\\\\山下研究室\\\\signate\\\\広島カープ\\\\球種部門\\\\元データ\\\\test_pitch.csv').query('年度 == 2018')"
   ]
  },
  {
   "cell_type": "markdown",
   "metadata": {},
   "source": [
    "### 利用するデータを選ぶ"
   ]
  },
  {
   "cell_type": "markdown",
   "metadata": {},
   "source": [
    "1.[ホームチームID] for 得点差計算\n",
    "2.[アウェイチームID] for 得点差計算\n",
    "3.[イニング]\n",
    "4.[表裏]\n",
    "5.[打席内投球数]\n",
    "6.[投手ID] for train_playerをつなげるため\n",
    "7.[投手試合内投球数]\n",
    "8.[投手イニング投球数]\n",
    "9.[打者ID] for train_playerをつなげるため\n",
    "10.[プレイ前ホームチーム得点]\n",
    "11.[プレイ前アウェイチーム得点]\n",
    "12.プレイ前アウト数\n",
    "13.プレイ前ボール数\n",
    "14.プレイ前ストライク数\n",
    "15.プレイ前走者状況\n",
    "16.一塁走者ID\n",
    "17.二塁走者ID\n",
    "18.三塁走者ID"
   ]
  },
  {
   "cell_type": "markdown",
   "metadata": {},
   "source": [
    "## 1.[得点差計算]"
   ]
  },
  {
   "cell_type": "code",
   "execution_count": 3,
   "metadata": {},
   "outputs": [],
   "source": [
    "#データ抽出\n",
    "h_a_p = train_pitch[['ホームチームID','アウェイチームID','プレイ前ホームチーム得点数','プレイ前アウェイチーム得点数','投手チームID']]"
   ]
  },
  {
   "cell_type": "code",
   "execution_count": 4,
   "metadata": {},
   "outputs": [
    {
     "output_type": "execute_result",
     "data": {
      "text/plain": "   ホームチームID  アウェイチームID  プレイ前ホームチーム得点数  プレイ前アウェイチーム得点数  投手チームID\n0         1          5              0               0        1\n1         1          5              0               0        1\n2         1          5              0               0        1\n3         1          5              0               0        1\n4         1          5              0               0        1",
      "text/html": "<div>\n<style scoped>\n    .dataframe tbody tr th:only-of-type {\n        vertical-align: middle;\n    }\n\n    .dataframe tbody tr th {\n        vertical-align: top;\n    }\n\n    .dataframe thead th {\n        text-align: right;\n    }\n</style>\n<table border=\"1\" class=\"dataframe\">\n  <thead>\n    <tr style=\"text-align: right;\">\n      <th></th>\n      <th>ホームチームID</th>\n      <th>アウェイチームID</th>\n      <th>プレイ前ホームチーム得点数</th>\n      <th>プレイ前アウェイチーム得点数</th>\n      <th>投手チームID</th>\n    </tr>\n  </thead>\n  <tbody>\n    <tr>\n      <th>0</th>\n      <td>1</td>\n      <td>5</td>\n      <td>0</td>\n      <td>0</td>\n      <td>1</td>\n    </tr>\n    <tr>\n      <th>1</th>\n      <td>1</td>\n      <td>5</td>\n      <td>0</td>\n      <td>0</td>\n      <td>1</td>\n    </tr>\n    <tr>\n      <th>2</th>\n      <td>1</td>\n      <td>5</td>\n      <td>0</td>\n      <td>0</td>\n      <td>1</td>\n    </tr>\n    <tr>\n      <th>3</th>\n      <td>1</td>\n      <td>5</td>\n      <td>0</td>\n      <td>0</td>\n      <td>1</td>\n    </tr>\n    <tr>\n      <th>4</th>\n      <td>1</td>\n      <td>5</td>\n      <td>0</td>\n      <td>0</td>\n      <td>1</td>\n    </tr>\n  </tbody>\n</table>\n</div>"
     },
     "metadata": {},
     "execution_count": 4
    }
   ],
   "source": [
    "h_a_p.head()"
   ]
  },
  {
   "cell_type": "code",
   "execution_count": 5,
   "metadata": {},
   "outputs": [],
   "source": [
    "d_p = []\n",
    "p_id = h_a_p['投手チームID'].tolist()\n",
    "h_id = h_a_p['ホームチームID'].tolist()\n",
    "a_id = h_a_p['アウェイチームID'].tolist()\n",
    "h_p = h_a_p['プレイ前ホームチーム得点数'].tolist()\n",
    "a_p = h_a_p['プレイ前アウェイチーム得点数'].tolist()\n",
    "\n",
    "for i in range(len(h_a_p)):\n",
    "    if p_id[i] == h_id[i]:#投手がホームチームの時\n",
    "        d_p.append(h_p[i] - a_p[i])\n",
    "    else:#投手がアウェイチームの時\n",
    "        d_p.append(a_p[i] - h_p[i])"
   ]
  },
  {
   "cell_type": "code",
   "execution_count": 6,
   "metadata": {},
   "outputs": [],
   "source": [
    "d_p = pd.DataFrame(d_p)\n",
    "#特徴量(得点差)\n",
    "d_p.columns = ['得点差']"
   ]
  },
  {
   "cell_type": "markdown",
   "metadata": {},
   "source": [
    "## 2.[イニングのone_hot_encoding]"
   ]
  },
  {
   "cell_type": "code",
   "execution_count": 7,
   "metadata": {},
   "outputs": [],
   "source": [
    "inning = train_pitch['イニング']"
   ]
  },
  {
   "cell_type": "code",
   "execution_count": 8,
   "metadata": {},
   "outputs": [],
   "source": [
    "inning_one_hot = pd.get_dummies(inning)\n",
    "inning_one_hot.columns = ['1回','2回','3回','4回','5回','6回','7回','8回','9回','10回','11回','12回']"
   ]
  },
  {
   "cell_type": "code",
   "execution_count": 9,
   "metadata": {},
   "outputs": [],
   "source": [
    "#イニングの特徴量完成\n",
    "inning_one_hot = inning_one_hot.drop(['12回'],axis = 1)"
   ]
  },
  {
   "cell_type": "markdown",
   "metadata": {},
   "source": [
    "## 3.[表裏のone_hot_encoding]"
   ]
  },
  {
   "cell_type": "code",
   "execution_count": 10,
   "metadata": {},
   "outputs": [],
   "source": [
    "o_u = train_pitch['表裏']"
   ]
  },
  {
   "cell_type": "code",
   "execution_count": 11,
   "metadata": {},
   "outputs": [],
   "source": [
    "o_u_one_hot = pd.get_dummies(o_u)\n",
    "o_u_one_hot.columns = ['表','裏']"
   ]
  },
  {
   "cell_type": "code",
   "execution_count": 12,
   "metadata": {},
   "outputs": [],
   "source": [
    "#表裏の特徴量完成\n",
    "o_u_one_hot = o_u_one_hot.drop(['裏'],axis = 1)"
   ]
  },
  {
   "cell_type": "markdown",
   "metadata": {},
   "source": [
    "## 4.[試合内投球数]"
   ]
  },
  {
   "cell_type": "code",
   "execution_count": 13,
   "metadata": {},
   "outputs": [],
   "source": [
    "#そのまま\n",
    "n_p_g = train_pitch['試合内投球数']\n",
    "n_p_g = pd.DataFrame(n_p_g)\n",
    "n_p_g.columns = ['試合内投球数']\n",
    "n_p_g_l = train_pitch['試合内投球数'].tolist()\n",
    "#mm = preprocessing.MinMaxScaler()"
   ]
  },
  {
   "cell_type": "code",
   "execution_count": 14,
   "metadata": {},
   "outputs": [],
   "source": [
    "#0~1正規化\n",
    "n_p_g_s = preprocessing.minmax_scale(n_p_g_l)\n",
    "n_p_g_s = pd.DataFrame(n_p_g_s)\n",
    "n_p_g_s.columns = ['試合内投球数']\n",
    "#標準化\n",
    "n_p_g_h = preprocessing.scale(n_p_g_l)\n",
    "n_p_g_h = pd.DataFrame(n_p_g_h)\n",
    "n_p_g_h.columns = ['試合内投球数']\n"
   ]
  },
  {
   "cell_type": "markdown",
   "metadata": {},
   "source": [
    "## 5.[投手ID]"
   ]
  },
  {
   "cell_type": "code",
   "execution_count": 15,
   "metadata": {},
   "outputs": [],
   "source": [
    "#特にいじる必要なし\n",
    "p_id = pd.DataFrame(train_pitch['投手ID'])\n",
    "p_id.columns = ['投手ID']"
   ]
  },
  {
   "cell_type": "markdown",
   "metadata": {},
   "source": [
    "## [捕手ID]"
   ]
  },
  {
   "cell_type": "code",
   "execution_count": 16,
   "metadata": {},
   "outputs": [],
   "source": [
    "#特にいじる必要なし\n",
    "c_id = pd.DataFrame(train_pitch['捕手ID'])\n",
    "c_id.columns = ['捕手ID']"
   ]
  },
  {
   "cell_type": "markdown",
   "metadata": {},
   "source": [
    "## 6.[打席内投球数]"
   ]
  },
  {
   "cell_type": "code",
   "execution_count": 17,
   "metadata": {},
   "outputs": [],
   "source": [
    "#そのまま\n",
    "n_p_d = train_pitch['打席内投球数']\n",
    "n_p_d = pd.DataFrame(n_p_d)\n",
    "n_p_d.columns = ['打席内投球数']\n",
    "n_p_d_l = train_pitch['打席内投球数'].tolist()\n",
    "#mm = preprocessing.MinMaxScaler()"
   ]
  },
  {
   "cell_type": "code",
   "execution_count": 18,
   "metadata": {},
   "outputs": [],
   "source": [
    "#0~1正規化\n",
    "n_p_d_s = preprocessing.minmax_scale(n_p_d_l)\n",
    "n_p_d_s = pd.DataFrame(n_p_d_s)\n",
    "n_p_d_s.columns = ['打席内投球数']\n",
    "#標準化\n",
    "n_p_d_h = preprocessing.scale(n_p_d_l)\n",
    "n_p_d_h = pd.DataFrame(n_p_d_h)\n",
    "n_p_d_h.columns = ['打席内投球数']"
   ]
  },
  {
   "cell_type": "markdown",
   "metadata": {},
   "source": [
    "## 7.[投手イニング内投球数]"
   ]
  },
  {
   "cell_type": "code",
   "execution_count": 19,
   "metadata": {},
   "outputs": [],
   "source": [
    "#そのまま\n",
    "n_p_i = train_pitch['投手イニング内投球数']\n",
    "n_p_i = pd.DataFrame(n_p_i)\n",
    "n_p_i.columns = ['投手イニング内投球数']\n",
    "n_p_i_l = train_pitch['投手イニング内投球数'].tolist()\n",
    "#mm = preprocessing.MinMaxScaler()"
   ]
  },
  {
   "cell_type": "code",
   "execution_count": 20,
   "metadata": {},
   "outputs": [],
   "source": [
    "#0~1正規化\n",
    "n_p_i_s = preprocessing.minmax_scale(n_p_i_l)\n",
    "n_p_i_s = pd.DataFrame(n_p_i_s)\n",
    "n_p_i_s.columns = ['投手イニング内投球数']\n",
    "#標準化\n",
    "n_p_i_h = preprocessing.scale(n_p_i_l)\n",
    "n_p_i_h = pd.DataFrame(n_p_i_h)\n",
    "n_p_i_h.columns = ['投手イニング内投球数']"
   ]
  },
  {
   "cell_type": "markdown",
   "metadata": {},
   "source": [
    "## 8.[打者ID]"
   ]
  },
  {
   "cell_type": "code",
   "execution_count": 21,
   "metadata": {},
   "outputs": [],
   "source": [
    "#特にいじる必要なし\n",
    "d_id = pd.DataFrame(train_pitch['打者ID'])\n",
    "d_id.columns = ['打者ID']"
   ]
  },
  {
   "cell_type": "markdown",
   "metadata": {},
   "source": [
    "## 9.[プレイ前アウト数]"
   ]
  },
  {
   "cell_type": "code",
   "execution_count": 22,
   "metadata": {},
   "outputs": [],
   "source": [
    "num_out = train_pitch['プレイ前アウト数']"
   ]
  },
  {
   "cell_type": "code",
   "execution_count": 23,
   "metadata": {},
   "outputs": [],
   "source": [
    "num_out_one_hot = pd.get_dummies(num_out)\n",
    "num_out_one_hot.columns = ['No out','1out','2out']"
   ]
  },
  {
   "cell_type": "code",
   "execution_count": 24,
   "metadata": {},
   "outputs": [],
   "source": [
    "#アウト数の特徴量完成\n",
    "num_out_one_hot = num_out_one_hot.drop(['2out'],axis = 1)"
   ]
  },
  {
   "cell_type": "markdown",
   "metadata": {},
   "source": [
    "## 10.[プレイ前ボール数]"
   ]
  },
  {
   "cell_type": "code",
   "execution_count": 25,
   "metadata": {},
   "outputs": [],
   "source": [
    "num_ball = train_pitch['プレイ前ボール数']"
   ]
  },
  {
   "cell_type": "code",
   "execution_count": 26,
   "metadata": {},
   "outputs": [],
   "source": [
    "num_ball_one_hot = pd.get_dummies(num_ball)\n",
    "num_ball_one_hot.columns = ['No ball','1ball','2ball','3ball']"
   ]
  },
  {
   "cell_type": "code",
   "execution_count": 27,
   "metadata": {},
   "outputs": [],
   "source": [
    "#アウト数の特徴量完成\n",
    "num_ball_one_hot = num_ball_one_hot.drop(['3ball'],axis = 1)"
   ]
  },
  {
   "cell_type": "markdown",
   "metadata": {},
   "source": [
    "## 11.[プレイ前ストライク数]"
   ]
  },
  {
   "cell_type": "code",
   "execution_count": 28,
   "metadata": {},
   "outputs": [],
   "source": [
    "num_strike = train_pitch['プレイ前ストライク数']"
   ]
  },
  {
   "cell_type": "code",
   "execution_count": 29,
   "metadata": {},
   "outputs": [],
   "source": [
    "num_strike_one_hot = pd.get_dummies(num_strike)\n",
    "num_strike_one_hot.columns = ['No strike','1strike','2strike']"
   ]
  },
  {
   "cell_type": "code",
   "execution_count": 30,
   "metadata": {},
   "outputs": [],
   "source": [
    "#アウト数の特徴量完成\n",
    "num_strike_one_hot = num_strike_one_hot.drop(['2strike'],axis = 1)"
   ]
  },
  {
   "cell_type": "markdown",
   "metadata": {},
   "source": []
  },
  {
   "cell_type": "markdown",
   "metadata": {},
   "source": [
    "## 12.[一塁走者ID]"
   ]
  },
  {
   "cell_type": "code",
   "execution_count": 31,
   "metadata": {},
   "outputs": [],
   "source": [
    "#Nanを0に他を1にする\n",
    "one_base = train_pitch['一塁走者ID'].fillna(0).tolist()"
   ]
  },
  {
   "cell_type": "code",
   "execution_count": 32,
   "metadata": {},
   "outputs": [],
   "source": [
    "one_base_one_hot = []\n",
    "for i in one_base:\n",
    "    if i == 0.0:\n",
    "        one_base_one_hot.append(0)\n",
    "    else:\n",
    "        one_base_one_hot.append(1)"
   ]
  },
  {
   "cell_type": "code",
   "execution_count": 33,
   "metadata": {},
   "outputs": [],
   "source": [
    "one_base_one_hot = pd.DataFrame(one_base_one_hot)\n",
    "one_base_one_hot.columns = ['一塁走者有無']"
   ]
  },
  {
   "cell_type": "markdown",
   "metadata": {},
   "source": [
    "## 13.[二塁走者]"
   ]
  },
  {
   "cell_type": "code",
   "execution_count": 34,
   "metadata": {},
   "outputs": [],
   "source": [
    "#Nanを0に他を1にする\n",
    "two_base = train_pitch['二塁走者ID'].fillna(0).tolist()"
   ]
  },
  {
   "cell_type": "code",
   "execution_count": 35,
   "metadata": {},
   "outputs": [],
   "source": [
    "two_base_one_hot = []\n",
    "for i in two_base:\n",
    "    if i == 0.0:\n",
    "        two_base_one_hot.append(0)\n",
    "    else:\n",
    "        two_base_one_hot.append(1)"
   ]
  },
  {
   "cell_type": "code",
   "execution_count": 36,
   "metadata": {},
   "outputs": [],
   "source": [
    "two_base_one_hot = pd.DataFrame(two_base_one_hot)\n",
    "two_base_one_hot.columns = ['二塁走者有無']"
   ]
  },
  {
   "cell_type": "markdown",
   "metadata": {},
   "source": [
    "## 14.[三塁走者]"
   ]
  },
  {
   "cell_type": "code",
   "execution_count": 37,
   "metadata": {},
   "outputs": [],
   "source": [
    "#Nanを0に他を1にする\n",
    "three_base = train_pitch['三塁走者ID'].fillna(0).tolist()"
   ]
  },
  {
   "cell_type": "code",
   "execution_count": 38,
   "metadata": {},
   "outputs": [],
   "source": [
    "three_base_one_hot = []\n",
    "for i in three_base:\n",
    "    if i == 0.0:\n",
    "        three_base_one_hot.append(0)\n",
    "    else:\n",
    "        three_base_one_hot.append(1)"
   ]
  },
  {
   "cell_type": "code",
   "execution_count": 39,
   "metadata": {},
   "outputs": [],
   "source": [
    "three_base_one_hot = pd.DataFrame(three_base_one_hot)\n",
    "three_base_one_hot.columns = ['三塁走者有無']"
   ]
  },
  {
   "cell_type": "markdown",
   "metadata": {},
   "source": [
    "## 14.[投手投球左右]"
   ]
  },
  {
   "cell_type": "code",
   "execution_count": 40,
   "metadata": {},
   "outputs": [],
   "source": [
    "pi_r_l = train_pitch['投手投球左右']"
   ]
  },
  {
   "cell_type": "code",
   "execution_count": 41,
   "metadata": {
    "tags": []
   },
   "outputs": [],
   "source": [
    "pi_r_l_one_hot = pd.get_dummies(pi_r_l)\n",
    "#print(pi_r_l_one_hot)\n",
    "pi_r_l_one_hot.columns = ['右投げ','左投げ']"
   ]
  },
  {
   "cell_type": "code",
   "execution_count": 42,
   "metadata": {},
   "outputs": [],
   "source": [
    "#アウト数の特徴量完成\n",
    "pi_r_l_one_hot = pi_r_l_one_hot.drop(['左投げ'],axis = 1)"
   ]
  },
  {
   "cell_type": "markdown",
   "metadata": {},
   "source": [
    "## 15.[打者打席左右]"
   ]
  },
  {
   "cell_type": "code",
   "execution_count": 43,
   "metadata": {},
   "outputs": [],
   "source": [
    "b_r_l = train_pitch['打者打席左右']"
   ]
  },
  {
   "cell_type": "code",
   "execution_count": 44,
   "metadata": {
    "tags": []
   },
   "outputs": [],
   "source": [
    "b_r_l_one_hot = pd.get_dummies(b_r_l)\n",
    "#print(b_r_l_one_hot)\n",
    "b_r_l_one_hot.columns = ['右打ち','左打ち']"
   ]
  },
  {
   "cell_type": "code",
   "execution_count": 45,
   "metadata": {},
   "outputs": [],
   "source": [
    "#アウト数の特徴量完成\n",
    "b_r_l_one_hot = b_r_l_one_hot.drop(['左打ち'],axis = 1)"
   ]
  },
  {
   "cell_type": "markdown",
   "metadata": {},
   "source": [
    "特徴量一覧"
   ]
  },
  {
   "cell_type": "markdown",
   "metadata": {},
   "source": [
    "##### d_p:得点差\n",
    "##### inning_one_hot:イニング\n",
    "##### o_u_one_hot:表裏\n",
    "##### n_p_g:試合内投球数\n",
    "##### n_p_g_s:試合内投球数(正規化)\n",
    "##### n_p_g_h:試合内投球数(標準化)\n",
    "##### p_id:投手ID\n",
    "##### n_p_d:打席内投球数\n",
    "##### n_p_d_s:打席内投球数(正規化)\n",
    "##### n_p_d_h:打席内投球数(標準化)\n",
    "##### n_p_i:イニング内投球数\n",
    "##### n_p_i_s:イニング内投球数(正規化)\n",
    "##### n_p_i_h:イニング内投球数(標準化)\n",
    "##### d_id:打者ID\n",
    "##### num_out_one_hot:プレイ前アウト数\n",
    "##### num_ball_one_hot:プレイ前ボール数\n",
    "##### num_strike_one_hot:プレイ前ストライク数\n",
    "##### one_base_one_hot:一塁走者有無\n",
    "##### two_base_one_hot:二塁走者有無\n",
    "##### three_base_one_hot:三塁走者有無\n",
    "##### pi_r_l:投手投球左右\n",
    "##### b_r_l:打者打席左右\n",
    "##### c_id:捕手ID"
   ]
  },
  {
   "cell_type": "markdown",
   "metadata": {},
   "source": [
    "## [特徴量結合]"
   ]
  },
  {
   "cell_type": "code",
   "execution_count": 46,
   "metadata": {},
   "outputs": [],
   "source": [
    "#正規化・標準化なし\n",
    "data_list_1 = [d_p,inning_one_hot,o_u_one_hot,n_p_g,p_id,n_p_d,n_p_i,d_id,num_out_one_hot,num_ball_one_hot,num_strike_one_hot,one_base_one_hot,two_base_one_hot,three_base_one_hot,pi_r_l_one_hot,b_r_l_one_hot,c_id]\n",
    "#正規化\n",
    "data_list_2 = [d_p,inning_one_hot,o_u_one_hot,n_p_g_s,p_id,n_p_d_s,n_p_i_s,d_id,num_out_one_hot,num_ball_one_hot,num_strike_one_hot,one_base_one_hot,two_base_one_hot,three_base_one_hot,pi_r_l_one_hot,b_r_l_one_hot,c_id]\n",
    "#標準化\n",
    "data_list_3 = [d_p,inning_one_hot,o_u_one_hot,n_p_g_h,p_id,n_p_d_h,n_p_i_h,d_id,num_out_one_hot,num_ball_one_hot,num_strike_one_hot,one_base_one_hot,two_base_one_hot,three_base_one_hot,pi_r_l_one_hot,b_r_l_one_hot,c_id]"
   ]
  },
  {
   "cell_type": "code",
   "execution_count": 47,
   "metadata": {},
   "outputs": [],
   "source": [
    "data = pd.concat(data_list_1,axis = 1)"
   ]
  },
  {
   "cell_type": "code",
   "execution_count": 48,
   "metadata": {},
   "outputs": [],
   "source": [
    "data.to_csv('C:\\\\Users\\\\oguma\\\\Desktop\\\\山下研究室\\\\signate\\\\広島カープ\\\\球種部門\\\\特徴量エンジニアリング\\\\data\\\\test_pitch_2018.csv')"
   ]
  },
  {
   "cell_type": "markdown",
   "metadata": {},
   "source": [
    "## [ラベル用意]"
   ]
  },
  {
   "cell_type": "code",
   "execution_count": 112,
   "metadata": {},
   "outputs": [],
   "source": [
    "label = pd.DataFrame(train_pitch['球種'])\n",
    "label.columns = ['球種']"
   ]
  },
  {
   "cell_type": "code",
   "execution_count": 113,
   "metadata": {},
   "outputs": [],
   "source": [
    "label.to_csv('C:\\\\Users\\\\oguma\\\\Desktop\\\\山下研究室\\\\signate\\\\広島カープ\\\\球種部門\\\\特徴量エンジニアリング\\\\data\\\\label.csv')"
   ]
  },
  {
   "cell_type": "markdown",
   "metadata": {},
   "source": [
    "## データの結合"
   ]
  },
  {
   "cell_type": "code",
   "execution_count": 49,
   "metadata": {},
   "outputs": [],
   "source": [
    "pitch = pd.read_csv('C:\\\\Users\\\\oguma\\\\Desktop\\\\山下研究室\\\\signate\\\\広島カープ\\\\球種部門\\\\特徴量エンジニアリング\\\\data\\\\test_pitch_2018.csv')\n",
    "pitch = pitch.iloc[:,1:]\n",
    "\n",
    "player = pd.read_csv('C:\\\\Users\\\\oguma\\\\Desktop\\\\山下研究室\\\\signate\\\\広島カープ\\\\球種部門\\\\特徴量エンジニアリング\\\\data\\\\test_player_2018.csv')\n",
    "player = player.iloc[:,1:]"
   ]
  },
  {
   "cell_type": "code",
   "execution_count": 50,
   "metadata": {},
   "outputs": [],
   "source": [
    "#投手のみ\n",
    "merge_1 = pd.merge(pitch,player,left_on = '投手ID',right_on = '選手ID')\n",
    "merge_1 = merge_1.rename(columns={'身長':'投手身長','体重':'投手体重','年俸':'投手年俸'})\n",
    "merge_1 = merge_1.drop(['投手ID'],axis = 1)"
   ]
  },
  {
   "cell_type": "code",
   "execution_count": 51,
   "metadata": {},
   "outputs": [],
   "source": [
    "#投手と打者\n",
    "merge_2 = pd.merge(merge_1,player,left_on = '打者ID',right_on = '選手ID')\n",
    "merge_2 = merge_2.rename(columns={'身長':'打者身長','体重':'打者体重','年俸':'打者年俸'})\n",
    "merge_2 = merge_2.drop(['打者ID'],axis = 1)"
   ]
  },
  {
   "cell_type": "code",
   "execution_count": 52,
   "metadata": {},
   "outputs": [],
   "source": [
    "#投手と打者と捕手\n",
    "merge_3 = pd.merge(merge_2,player,left_on = '捕手ID',right_on = '選手ID')\n",
    "merge_3 = merge_3.rename(columns={'身長':'捕手身長','体重':'捕手体重','年俸':'捕手年俸'})\n",
    "merge_3 = merge_3.drop(['捕手ID'],axis = 1)"
   ]
  },
  {
   "cell_type": "markdown",
   "metadata": {},
   "source": [
    "## 選手IDを削除"
   ]
  },
  {
   "cell_type": "code",
   "execution_count": 53,
   "metadata": {},
   "outputs": [],
   "source": [
    "merge_1 = merge_1.drop(['選手ID','打者ID','捕手ID'],axis = 1)\n",
    "merge_2 = merge_2.drop(['選手ID_x','捕手ID','選手ID_y'],axis = 1)\n",
    "merge_3 = merge_3.drop(['選手ID','選手ID_x','選手ID_y'],axis = 1)"
   ]
  },
  {
   "cell_type": "markdown",
   "metadata": {},
   "source": [
    "## csvへ"
   ]
  },
  {
   "cell_type": "code",
   "execution_count": 54,
   "metadata": {},
   "outputs": [
    {
     "output_type": "execute_result",
     "data": {
      "text/plain": "Index(['得点差', '1回', '2回', '3回', '4回', '5回', '6回', '7回', '8回', '9回', '10回',\n       '11回', '表', '試合内投球数', '打席内投球数', '投手イニング内投球数', 'No out', '1out',\n       'No ball', '1ball', '2ball', 'No strike', '1strike', '一塁走者有無', '二塁走者有無',\n       '三塁走者有無', '右投げ', '右打ち', '投手身長', '投手体重', '投手年俸', '打者身長', '打者体重', '打者年俸',\n       '捕手身長', '捕手体重', '捕手年俸'],\n      dtype='object')"
     },
     "metadata": {},
     "execution_count": 54
    }
   ],
   "source": [
    "merge_3.columns"
   ]
  },
  {
   "cell_type": "code",
   "execution_count": 55,
   "metadata": {},
   "outputs": [],
   "source": [
    "merge_3.to_csv('C:\\\\Users\\\\oguma\\\\Desktop\\\\山下研究室\\\\signate\\\\広島カープ\\\\球種部門\\\\特徴量エンジニアリング\\\\data\\\\test_merge_2018.csv')"
   ]
  },
  {
   "cell_type": "code",
   "execution_count": null,
   "metadata": {},
   "outputs": [],
   "source": []
  }
 ],
 "metadata": {
  "language_info": {
   "codemirror_mode": {
    "name": "ipython",
    "version": 3
   },
   "file_extension": ".py",
   "mimetype": "text/x-python",
   "name": "python",
   "nbconvert_exporter": "python",
   "pygments_lexer": "ipython3",
   "version": 3
  },
  "orig_nbformat": 2,
  "kernelspec": {
   "name": "python_defaultSpec_1594464013073",
   "display_name": "Python 3.7.3 64-bit ('base': conda)"
  }
 },
 "nbformat": 4,
 "nbformat_minor": 2
}