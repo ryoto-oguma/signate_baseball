{
 "cells": [
  {
   "cell_type": "code",
   "execution_count": 1,
   "metadata": {},
   "outputs": [],
   "source": [
    "import pandas as pd\n",
    "import numpy as np\n",
    "from sklearn import preprocessing"
   ]
  },
  {
   "cell_type": "code",
   "execution_count": 2,
   "metadata": {},
   "outputs": [],
   "source": [
    "train_player = pd.read_csv('C:\\\\Users\\\\oguma\\\\Desktop\\\\山下研究室\\\\signate\\\\広島カープ\\\\球種部門\\\\元データ\\\\train_player.csv')"
   ]
  },
  {
   "cell_type": "markdown",
   "metadata": {},
   "source": [
    "### 利用するデータを選ぶ"
   ]
  },
  {
   "cell_type": "markdown",
   "metadata": {},
   "source": [
    "1.選手ID for train_pitchとの結び付け\n",
    "2.投\n",
    "3.打\n",
    "4.身長\n",
    "5.体重\n",
    "6.年俸"
   ]
  },
  {
   "cell_type": "markdown",
   "metadata": {},
   "source": [
    "## 1.[選手ID]"
   ]
  },
  {
   "cell_type": "code",
   "execution_count": 3,
   "metadata": {},
   "outputs": [],
   "source": [
    "#特にいじる必要なし\n",
    "p_id = pd.DataFrame(train_player['選手ID'])\n",
    "p_id.columns = ['選手ID']"
   ]
  },
  {
   "cell_type": "markdown",
   "metadata": {},
   "source": [
    "## 2.[投]"
   ]
  },
  {
   "cell_type": "code",
   "execution_count": 4,
   "metadata": {},
   "outputs": [],
   "source": [
    "r_l_pitch = train_player['投']"
   ]
  },
  {
   "cell_type": "code",
   "execution_count": 5,
   "metadata": {
    "tags": []
   },
   "outputs": [],
   "source": [
    "r_l_pitch_one_hot = pd.get_dummies(r_l_pitch)\n",
    "r_l_pitch_one_hot.columns = ['右投げ','左投げ']"
   ]
  },
  {
   "cell_type": "code",
   "execution_count": 6,
   "metadata": {},
   "outputs": [],
   "source": [
    "#アウト数の特徴量完成\n",
    "r_l_pitch_one_hot = r_l_pitch_one_hot.drop(['左投げ'],axis = 1)"
   ]
  },
  {
   "cell_type": "markdown",
   "metadata": {},
   "source": [
    "## 3.[打]"
   ]
  },
  {
   "cell_type": "code",
   "execution_count": 7,
   "metadata": {},
   "outputs": [],
   "source": [
    "r_l_b = train_player['打']"
   ]
  },
  {
   "cell_type": "code",
   "execution_count": 8,
   "metadata": {
    "tags": []
   },
   "outputs": [],
   "source": [
    "r_l_b_one_hot = pd.get_dummies(r_l_b)\n",
    "#print(r_l_b_one_hot)\n",
    "r_l_b_one_hot.columns = ['両打ち','右打ち','左打ち']"
   ]
  },
  {
   "cell_type": "code",
   "execution_count": 9,
   "metadata": {},
   "outputs": [],
   "source": [
    "#アウト数の特徴量完成\n",
    "r_l_b_one_hot = r_l_b_one_hot.drop(['両打ち'],axis = 1)"
   ]
  },
  {
   "cell_type": "markdown",
   "metadata": {},
   "source": [
    "## 4.[身長]"
   ]
  },
  {
   "cell_type": "code",
   "execution_count": 10,
   "metadata": {},
   "outputs": [],
   "source": [
    "#そのまま\n",
    "height = train_player['身長']\n",
    "height = pd.DataFrame(height)\n",
    "height.columns = ['身長']\n",
    "height_l = train_player['身長'].tolist()\n",
    "#mm = preprocessing.MinMaxScaler()"
   ]
  },
  {
   "cell_type": "code",
   "execution_count": 11,
   "metadata": {},
   "outputs": [],
   "source": [
    "#0~1正規化\n",
    "height_s = preprocessing.minmax_scale(height_l)\n",
    "height_s = pd.DataFrame(height_s)\n",
    "height_s.columns = ['身長']\n",
    "#標準化\n",
    "height_h = preprocessing.scale(height_l)\n",
    "height_h = pd.DataFrame(height_h)\n",
    "height_h.columns = ['身長']"
   ]
  },
  {
   "cell_type": "markdown",
   "metadata": {},
   "source": [
    "## 5.[体重]"
   ]
  },
  {
   "cell_type": "code",
   "execution_count": 12,
   "metadata": {},
   "outputs": [],
   "source": [
    "#そのまま\n",
    "weight = train_player['体重']\n",
    "weight = pd.DataFrame(weight)\n",
    "weight.columns = ['体重']\n",
    "weight_l = train_player['体重'].tolist()\n",
    "#mm = preprocessing.MinMaxScaler()"
   ]
  },
  {
   "cell_type": "code",
   "execution_count": 13,
   "metadata": {},
   "outputs": [],
   "source": [
    "#0~1正規化\n",
    "weight_s = preprocessing.minmax_scale(weight_l)\n",
    "weight_s = pd.DataFrame(weight_s)\n",
    "weight_s.columns = ['体重']\n",
    "#標準化\n",
    "weight_h = preprocessing.scale(weight_l)\n",
    "weight_h = pd.DataFrame(weight_h)\n",
    "weight_h.columns = ['体重']"
   ]
  },
  {
   "cell_type": "markdown",
   "metadata": {},
   "source": [
    "## 6.[年俸]"
   ]
  },
  {
   "cell_type": "code",
   "execution_count": 14,
   "metadata": {},
   "outputs": [],
   "source": [
    "#そのまま\n",
    "money = train_player['年俸']\n",
    "money_l = train_player['年俸'].tolist()\n",
    "#mm = preprocessing.MinMaxScaler()"
   ]
  },
  {
   "cell_type": "code",
   "execution_count": 15,
   "metadata": {},
   "outputs": [],
   "source": [
    "#0~1正規化\n",
    "money_s = preprocessing.minmax_scale(money_l)\n",
    "money_s = pd.DataFrame(money_s)\n",
    "money_s.columns = ['年俸']\n",
    "#標準化\n",
    "money_h = preprocessing.scale(money_l)\n",
    "money_h = pd.DataFrame(money_h)\n",
    "money_h.columns = ['年俸']"
   ]
  },
  {
   "cell_type": "markdown",
   "metadata": {},
   "source": [
    "## [特徴量結合]"
   ]
  },
  {
   "cell_type": "code",
   "execution_count": 16,
   "metadata": {},
   "outputs": [],
   "source": [
    "#正規化・標準化なし\n",
    "data_list_1 = [p_id,height,weight,money]\n",
    "#正規化\n",
    "data_list_2 = [p_id,height_s,weight_s,money_s]\n",
    "#標準化\n",
    "data_list_3 = [p_id,height_h,weight_h,money_h]"
   ]
  },
  {
   "cell_type": "code",
   "execution_count": 17,
   "metadata": {},
   "outputs": [],
   "source": [
    "data = pd.concat(data_list_1,axis = 1)"
   ]
  },
  {
   "cell_type": "code",
   "execution_count": 18,
   "metadata": {},
   "outputs": [],
   "source": [
    "data.to_csv('C:\\\\Users\\\\oguma\\\\Desktop\\\\山下研究室\\\\signate\\\\広島カープ\\\\球種部門\\\\特徴量エンジニアリング\\\\data\\\\train_player_1.csv')"
   ]
  },
  {
   "cell_type": "code",
   "execution_count": null,
   "metadata": {},
   "outputs": [],
   "source": []
  },
  {
   "cell_type": "code",
   "execution_count": null,
   "metadata": {},
   "outputs": [],
   "source": []
  }
 ],
 "metadata": {
  "language_info": {
   "codemirror_mode": {
    "name": "ipython",
    "version": 3
   },
   "file_extension": ".py",
   "mimetype": "text/x-python",
   "name": "python",
   "nbconvert_exporter": "python",
   "pygments_lexer": "ipython3",
   "version": 3
  },
  "orig_nbformat": 2,
  "kernelspec": {
   "name": "python_defaultSpec_1594523551030",
   "display_name": "Python 3.7.3 64-bit ('base': conda)"
  }
 },
 "nbformat": 4,
 "nbformat_minor": 2
}